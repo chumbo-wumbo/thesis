{
  "cells": [
    {
      "cell_type": "code",
      "execution_count": null,
      "metadata": {
        "colab": {
          "base_uri": "https://localhost:8080/"
        },
        "id": "UjdTUAG4MUjc",
        "outputId": "3b7fd47a-93ab-4018-cd11-a9d2c195a6ea"
      },
      "outputs": [
        {
          "name": "stdout",
          "output_type": "stream",
          "text": [
            "Drive already mounted at /content/drive; to attempt to forcibly remount, call drive.mount(\"/content/drive\", force_remount=True).\n",
            "/content/drive/MyDrive/Colab Notebooks\n"
          ]
        }
      ],
      "source": [
        "\n",
        "#connect to google drive\n",
        "from google.colab import drive\n",
        "drive.mount('/content/drive')\n",
        "%cd /content/drive/MyDrive/Colab Notebooks"
      ]
    },
    {
      "cell_type": "code",
      "execution_count": null,
      "metadata": {
        "colab": {
          "base_uri": "https://localhost:8080/"
        },
        "id": "y8fGU4-cMUje",
        "outputId": "2acd8b19-89c8-4897-ecd6-98ea17771774"
      },
      "outputs": [
        {
          "name": "stdout",
          "output_type": "stream",
          "text": [
            "Current Working Directory: /content/drive/MyDrive/Colab Notebooks\n"
          ]
        }
      ],
      "source": [
        "import os\n",
        "\n",
        "# Get the current working directory\n",
        "current_directory = os.getcwd()\n",
        "\n",
        "print(\"Current Working Directory:\", current_directory)"
      ]
    },
    {
      "cell_type": "code",
      "execution_count": null,
      "metadata": {
        "id": "eMuYqG9CMUjf"
      },
      "outputs": [],
      "source": [
        "#change the working directory to a different path\n",
        "#os.chdir(r'C:\\Users\\madal\\Desktop\\MSc-Data-Science\\Thesis')"
      ]
    },
    {
      "cell_type": "code",
      "execution_count": null,
      "metadata": {
        "id": "Hzog9WBMMUjf"
      },
      "outputs": [],
      "source": []
    },
    {
      "cell_type": "code",
      "execution_count": null,
      "metadata": {
        "id": "8tGBKof1MUjf"
      },
      "outputs": [],
      "source": [
        "#import the packages\n",
        "import numpy as np\n",
        "import pandas as pd\n",
        "import seaborn as sns\n",
        "import matplotlib.pyplot as plt\n",
        "import seaborn as sns\n",
        "import joblib\n",
        "import math\n",
        "from sklearn.manifold import TSNE\n",
        "from sklearn.preprocessing import LabelEncoder\n",
        "from statsmodels.stats.outliers_influence import variance_inflation_factor\n",
        "from sklearn.model_selection import train_test_split, cross_val_score, GridSearchCV, RandomizedSearchCV\n",
        "from sklearn.linear_model import LogisticRegression\n",
        "from sklearn.preprocessing import StandardScaler, OneHotEncoder\n",
        "from sklearn.metrics import f1_score, precision_recall_curve, auc\n",
        "from imblearn.over_sampling import ADASYN\n",
        "from sklearn.model_selection import StratifiedShuffleSplit\n",
        "from imblearn.over_sampling import SMOTE\n",
        "from sklearn.metrics import classification_report, confusion_matrix, accuracy_score\n",
        "from sklearn.model_selection import learning_curve\n",
        "from sklearn.decomposition import PCA\n",
        "from sklearn.cluster import KMeans\n",
        "from imblearn.under_sampling import RandomUnderSampler\n",
        "from collections import Counter\n",
        "from sklearn.neighbors import KNeighborsClassifier\n",
        "from scipy.stats import randint\n",
        "from sklearn.pipeline import Pipeline\n",
        "from sklearn.metrics import average_precision_score\n",
        "from sklearn.metrics import recall_score\n"
      ]
    },
    {
      "cell_type": "code",
      "execution_count": null,
      "metadata": {
        "id": "XHkVl6EwMUjg"
      },
      "outputs": [],
      "source": [
        "#learning curve function\n",
        "def plot_learning_curve(model, X, y, scoring, train_sizes):\n",
        "    train_sizes, train_scores, test_scores = learning_curve(\n",
        "        model, X, y, cv=5, scoring=scoring, train_sizes=train_sizes\n",
        "    )\n",
        "\n",
        "    train_scores_mean = np.mean(train_scores, axis=1)\n",
        "    train_scores_std = np.std(train_scores, axis=1)\n",
        "    test_scores_mean = np.mean(test_scores, axis=1)\n",
        "    test_scores_std = np.std(test_scores, axis=1)\n",
        "\n",
        "    plt.figure(figsize=(10, 6))\n",
        "    plt.title(\"Learning Curve\")\n",
        "    plt.xlabel(\"Training examples\")\n",
        "    plt.ylabel(\"Score\")\n",
        "    plt.grid()\n",
        "    plt.fill_between(\n",
        "        train_sizes,\n",
        "        train_scores_mean - train_scores_std,\n",
        "        train_scores_mean + train_scores_std,\n",
        "        alpha=0.1,\n",
        "        color=\"r\",\n",
        "    )\n",
        "    plt.fill_between(\n",
        "        train_sizes,\n",
        "        test_scores_mean - test_scores_std,\n",
        "        test_scores_mean + test_scores_std,\n",
        "        alpha=0.1,\n",
        "        color=\"g\",\n",
        "    )\n",
        "    plt.plot(train_sizes, train_scores_mean, \"o-\", color=\"r\", label=\"Training score\")\n",
        "    plt.plot(train_sizes, test_scores_mean, \"o-\", color=\"g\", label=\"Cross-validation score\")\n",
        "    plt.legend(loc=\"best\")\n",
        "    plt.show()\n"
      ]
    },
    {
      "cell_type": "code",
      "execution_count": null,
      "metadata": {
        "id": "eJJPjM_PMUjg"
      },
      "outputs": [],
      "source": [
        "#set random seed\n",
        "np.random.seed(42)"
      ]
    },
    {
      "cell_type": "code",
      "execution_count": 37,
      "metadata": {
        "id": "WKF9o543MUjg"
      },
      "outputs": [],
      "source": [
        "#load pre-saved datasets\n",
        "\n",
        "##import data = smote\n",
        "\n",
        "#X_train_resampled = pd.read_csv('X_train_transformed_smote.csv')\n",
        "X_valid_transformed = pd.read_csv('X_valid_transformed_basicfull.csv')\n",
        "X_test_transformed = pd.read_csv('X_test_transformed_basicfull.csv')\n",
        "\n",
        "#y_train_resampled = pd.read_csv('y_train_smote.csv')\n",
        "y_valid = pd.read_csv('y_valid_basicfull.csv')\n",
        "y_test = pd.read_csv('y_test_basicfull.csv')\n",
        "#y_train_resampled = np.ravel(y_train_resampled.values)\n",
        "y_valid = np.ravel(y_valid.values)\n",
        "y_test = np.ravel(y_test.values)\n"
      ]
    },
    {
      "cell_type": "code",
      "execution_count": null,
      "metadata": {
        "id": "HX23mYncMUjh"
      },
      "outputs": [],
      "source": [
        "#convert arrays to pandas df\n",
        "X_train_df = pd.DataFrame(X_train_resampled)\n",
        "X_valid_df = pd.DataFrame(X_valid_transformed)\n",
        "\n",
        "#get the columns/features of each dataset\n",
        "features_train = set(X_train_df.columns)\n",
        "features_valid = set(X_valid_df.columns)\n",
        "\n",
        "#check if the features are the same\n",
        "if features_train == features_valid:\n",
        "    print(\"Number of features is the same in training and validation sets.\")\n",
        "else:\n",
        "    print(\"Number of features is different in training and validation sets.\")"
      ]
    },
    {
      "cell_type": "code",
      "execution_count": null,
      "metadata": {
        "id": "ZVIrQkIwMUjh"
      },
      "outputs": [],
      "source": [
        "#KNN with smote, 1/7\n"
      ]
    },
    {
      "cell_type": "code",
      "execution_count": null,
      "metadata": {
        "colab": {
          "background_save": true,
          "base_uri": "https://localhost:8080/"
        },
        "id": "QwwSwDfWMUji",
        "outputId": "bfbe4bdc-8328-47bd-eeb6-504a8b6eba6a"
      },
      "outputs": [
        {
          "name": "stdout",
          "output_type": "stream",
          "text": [
            "Fitting 3 folds for each of 5 candidates, totalling 15 fits\n",
            "[CV] END .knn__n_neighbors=7, knn__p=2, knn__weights=uniform; total time=21.4min\n",
            "[CV] END .knn__n_neighbors=7, knn__p=2, knn__weights=uniform; total time=21.3min\n",
            "[CV] END .knn__n_neighbors=7, knn__p=2, knn__weights=uniform; total time=21.3min\n",
            "[CV] END knn__n_neighbors=15, knn__p=1, knn__weights=distance; total time=187.4min\n",
            "[CV] END knn__n_neighbors=15, knn__p=1, knn__weights=distance; total time=187.5min\n",
            "[CV] END knn__n_neighbors=15, knn__p=1, knn__weights=distance; total time=187.5min\n",
            "[CV] END .knn__n_neighbors=7, knn__p=2, knn__weights=uniform; total time=21.2min\n",
            "[CV] END .knn__n_neighbors=7, knn__p=2, knn__weights=uniform; total time=21.2min\n",
            "[CV] END .knn__n_neighbors=7, knn__p=2, knn__weights=uniform; total time=21.1min\n",
            "[CV] END knn__n_neighbors=11, knn__p=1, knn__weights=distance; total time=187.0min\n",
            "[CV] END knn__n_neighbors=11, knn__p=1, knn__weights=distance; total time=188.1min\n",
            "[CV] END knn__n_neighbors=11, knn__p=1, knn__weights=distance; total time=189.4min\n",
            "[CV] END knn__n_neighbors=4, knn__p=2, knn__weights=distance; total time=21.0min\n",
            "[CV] END knn__n_neighbors=4, knn__p=2, knn__weights=distance; total time=20.9min\n",
            "[CV] END knn__n_neighbors=4, knn__p=2, knn__weights=distance; total time=20.8min\n",
            "Best Hyperparameters KNN smote: {'knn__n_neighbors': 4, 'knn__p': 2, 'knn__weights': 'distance'}\n"
          ]
        },
        {
          "name": "stderr",
          "output_type": "stream",
          "text": [
            "ERROR:root:Internal Python error in the inspect module.\n",
            "Below is the traceback from this internal error.\n",
            "\n",
            "ERROR:root:Internal Python error in the inspect module.\n",
            "Below is the traceback from this internal error.\n",
            "\n",
            "ERROR:root:Internal Python error in the inspect module.\n",
            "Below is the traceback from this internal error.\n",
            "\n"
          ]
        },
        {
          "name": "stdout",
          "output_type": "stream",
          "text": [
            "Traceback (most recent call last):\n",
            "  File \"/usr/local/lib/python3.10/dist-packages/IPython/core/interactiveshell.py\", line 3553, in run_code\n",
            "    exec(code_obj, self.user_global_ns, self.user_ns)\n",
            "  File \"<ipython-input-5-ee5bd0b43fff>\", line 44, in <cell line: 44>\n",
            "    joblib.dump(best_model, 'knn_smote.pkl')\n",
            "  File \"/usr/local/lib/python3.10/dist-packages/joblib/numpy_pickle.py\", line 552, in dump\n",
            "    with open(filename, 'wb') as f:\n",
            "OSError: [Errno 107] Transport endpoint is not connected: 'knn_smote.pkl'\n",
            "\n",
            "During handling of the above exception, another exception occurred:\n",
            "\n",
            "Traceback (most recent call last):\n",
            "  File \"/usr/local/lib/python3.10/dist-packages/IPython/core/interactiveshell.py\", line 2099, in showtraceback\n",
            "    stb = value._render_traceback_()\n",
            "AttributeError: 'OSError' object has no attribute '_render_traceback_'\n",
            "\n",
            "During handling of the above exception, another exception occurred:\n",
            "\n",
            "Traceback (most recent call last):\n",
            "  File \"/usr/local/lib/python3.10/dist-packages/IPython/core/ultratb.py\", line 1101, in get_records\n",
            "    return _fixed_getinnerframes(etb, number_of_lines_of_context, tb_offset)\n",
            "  File \"/usr/local/lib/python3.10/dist-packages/IPython/core/ultratb.py\", line 248, in wrapped\n",
            "    return f(*args, **kwargs)\n",
            "  File \"/usr/local/lib/python3.10/dist-packages/IPython/core/ultratb.py\", line 281, in _fixed_getinnerframes\n",
            "    records = fix_frame_records_filenames(inspect.getinnerframes(etb, context))\n",
            "  File \"/usr/lib/python3.10/inspect.py\", line 1662, in getinnerframes\n",
            "    frameinfo = (tb.tb_frame,) + getframeinfo(tb, context)\n",
            "  File \"/usr/lib/python3.10/inspect.py\", line 1620, in getframeinfo\n",
            "    filename = getsourcefile(frame) or getfile(frame)\n",
            "  File \"/usr/lib/python3.10/inspect.py\", line 829, in getsourcefile\n",
            "    module = getmodule(object, filename)\n",
            "  File \"/usr/lib/python3.10/inspect.py\", line 861, in getmodule\n",
            "    file = getabsfile(object, _filename)\n",
            "  File \"/usr/lib/python3.10/inspect.py\", line 845, in getabsfile\n",
            "    return os.path.normcase(os.path.abspath(_filename))\n",
            "  File \"/usr/lib/python3.10/posixpath.py\", line 384, in abspath\n",
            "    cwd = os.getcwd()\n",
            "OSError: [Errno 107] Transport endpoint is not connected\n",
            "Traceback (most recent call last):\n",
            "  File \"/usr/local/lib/python3.10/dist-packages/IPython/core/interactiveshell.py\", line 3553, in run_code\n",
            "    exec(code_obj, self.user_global_ns, self.user_ns)\n",
            "  File \"<ipython-input-5-ee5bd0b43fff>\", line 44, in <cell line: 44>\n",
            "    joblib.dump(best_model, 'knn_smote.pkl')\n",
            "  File \"/usr/local/lib/python3.10/dist-packages/joblib/numpy_pickle.py\", line 552, in dump\n",
            "    with open(filename, 'wb') as f:\n",
            "OSError: [Errno 107] Transport endpoint is not connected: 'knn_smote.pkl'\n",
            "\n",
            "During handling of the above exception, another exception occurred:\n",
            "\n",
            "Traceback (most recent call last):\n",
            "  File \"/usr/local/lib/python3.10/dist-packages/IPython/core/interactiveshell.py\", line 2099, in showtraceback\n",
            "    stb = value._render_traceback_()\n",
            "AttributeError: 'OSError' object has no attribute '_render_traceback_'\n",
            "\n",
            "During handling of the above exception, another exception occurred:\n",
            "\n",
            "Traceback (most recent call last):\n",
            "  File \"/usr/local/lib/python3.10/dist-packages/IPython/core/interactiveshell.py\", line 3473, in run_ast_nodes\n",
            "    if (await self.run_code(code, result,  async_=asy)):\n",
            "  File \"/usr/local/lib/python3.10/dist-packages/IPython/core/interactiveshell.py\", line 3575, in run_code\n",
            "    self.showtraceback(running_compiled_code=True)\n",
            "  File \"/usr/local/lib/python3.10/dist-packages/IPython/core/interactiveshell.py\", line 2101, in showtraceback\n",
            "    stb = self.InteractiveTB.structured_traceback(etype,\n",
            "  File \"/usr/local/lib/python3.10/dist-packages/IPython/core/ultratb.py\", line 1367, in structured_traceback\n",
            "    return FormattedTB.structured_traceback(\n",
            "  File \"/usr/local/lib/python3.10/dist-packages/IPython/core/ultratb.py\", line 1267, in structured_traceback\n",
            "    return VerboseTB.structured_traceback(\n",
            "  File \"/usr/local/lib/python3.10/dist-packages/IPython/core/ultratb.py\", line 1124, in structured_traceback\n",
            "    formatted_exception = self.format_exception_as_a_whole(etype, evalue, etb, number_of_lines_of_context,\n",
            "  File \"/usr/local/lib/python3.10/dist-packages/IPython/core/ultratb.py\", line 1082, in format_exception_as_a_whole\n",
            "    last_unique, recursion_repeat = find_recursion(orig_etype, evalue, records)\n",
            "  File \"/usr/local/lib/python3.10/dist-packages/IPython/core/ultratb.py\", line 382, in find_recursion\n",
            "    return len(records), 0\n",
            "TypeError: object of type 'NoneType' has no len()\n",
            "\n",
            "During handling of the above exception, another exception occurred:\n",
            "\n",
            "Traceback (most recent call last):\n",
            "  File \"/usr/local/lib/python3.10/dist-packages/IPython/core/interactiveshell.py\", line 2099, in showtraceback\n",
            "    stb = value._render_traceback_()\n",
            "AttributeError: 'TypeError' object has no attribute '_render_traceback_'\n",
            "\n",
            "During handling of the above exception, another exception occurred:\n",
            "\n",
            "Traceback (most recent call last):\n",
            "  File \"/usr/local/lib/python3.10/dist-packages/IPython/core/ultratb.py\", line 1101, in get_records\n",
            "    return _fixed_getinnerframes(etb, number_of_lines_of_context, tb_offset)\n",
            "  File \"/usr/local/lib/python3.10/dist-packages/IPython/core/ultratb.py\", line 248, in wrapped\n",
            "    return f(*args, **kwargs)\n",
            "  File \"/usr/local/lib/python3.10/dist-packages/IPython/core/ultratb.py\", line 281, in _fixed_getinnerframes\n",
            "    records = fix_frame_records_filenames(inspect.getinnerframes(etb, context))\n",
            "  File \"/usr/lib/python3.10/inspect.py\", line 1662, in getinnerframes\n",
            "    frameinfo = (tb.tb_frame,) + getframeinfo(tb, context)\n",
            "  File \"/usr/lib/python3.10/inspect.py\", line 1620, in getframeinfo\n",
            "    filename = getsourcefile(frame) or getfile(frame)\n",
            "  File \"/usr/lib/python3.10/inspect.py\", line 829, in getsourcefile\n",
            "    module = getmodule(object, filename)\n",
            "  File \"/usr/lib/python3.10/inspect.py\", line 861, in getmodule\n",
            "    file = getabsfile(object, _filename)\n",
            "  File \"/usr/lib/python3.10/inspect.py\", line 845, in getabsfile\n",
            "    return os.path.normcase(os.path.abspath(_filename))\n",
            "  File \"/usr/lib/python3.10/posixpath.py\", line 384, in abspath\n",
            "    cwd = os.getcwd()\n",
            "OSError: [Errno 107] Transport endpoint is not connected\n",
            "Traceback (most recent call last):\n",
            "  File \"/usr/local/lib/python3.10/dist-packages/IPython/core/interactiveshell.py\", line 3553, in run_code\n",
            "    exec(code_obj, self.user_global_ns, self.user_ns)\n",
            "  File \"<ipython-input-5-ee5bd0b43fff>\", line 44, in <cell line: 44>\n",
            "    joblib.dump(best_model, 'knn_smote.pkl')\n",
            "  File \"/usr/local/lib/python3.10/dist-packages/joblib/numpy_pickle.py\", line 552, in dump\n",
            "    with open(filename, 'wb') as f:\n",
            "OSError: [Errno 107] Transport endpoint is not connected: 'knn_smote.pkl'\n",
            "\n",
            "During handling of the above exception, another exception occurred:\n",
            "\n",
            "Traceback (most recent call last):\n",
            "  File \"/usr/local/lib/python3.10/dist-packages/IPython/core/interactiveshell.py\", line 2099, in showtraceback\n",
            "    stb = value._render_traceback_()\n",
            "AttributeError: 'OSError' object has no attribute '_render_traceback_'\n",
            "\n",
            "During handling of the above exception, another exception occurred:\n",
            "\n",
            "Traceback (most recent call last):\n",
            "  File \"/usr/local/lib/python3.10/dist-packages/IPython/core/interactiveshell.py\", line 3473, in run_ast_nodes\n",
            "    if (await self.run_code(code, result,  async_=asy)):\n",
            "  File \"/usr/local/lib/python3.10/dist-packages/IPython/core/interactiveshell.py\", line 3575, in run_code\n",
            "    self.showtraceback(running_compiled_code=True)\n",
            "  File \"/usr/local/lib/python3.10/dist-packages/IPython/core/interactiveshell.py\", line 2101, in showtraceback\n",
            "    stb = self.InteractiveTB.structured_traceback(etype,\n",
            "  File \"/usr/local/lib/python3.10/dist-packages/IPython/core/ultratb.py\", line 1367, in structured_traceback\n",
            "    return FormattedTB.structured_traceback(\n",
            "  File \"/usr/local/lib/python3.10/dist-packages/IPython/core/ultratb.py\", line 1267, in structured_traceback\n",
            "    return VerboseTB.structured_traceback(\n",
            "  File \"/usr/local/lib/python3.10/dist-packages/IPython/core/ultratb.py\", line 1124, in structured_traceback\n",
            "    formatted_exception = self.format_exception_as_a_whole(etype, evalue, etb, number_of_lines_of_context,\n",
            "  File \"/usr/local/lib/python3.10/dist-packages/IPython/core/ultratb.py\", line 1082, in format_exception_as_a_whole\n",
            "    last_unique, recursion_repeat = find_recursion(orig_etype, evalue, records)\n",
            "  File \"/usr/local/lib/python3.10/dist-packages/IPython/core/ultratb.py\", line 382, in find_recursion\n",
            "    return len(records), 0\n",
            "TypeError: object of type 'NoneType' has no len()\n",
            "\n",
            "During handling of the above exception, another exception occurred:\n",
            "\n",
            "Traceback (most recent call last):\n",
            "  File \"/usr/local/lib/python3.10/dist-packages/IPython/core/interactiveshell.py\", line 2099, in showtraceback\n",
            "    stb = value._render_traceback_()\n",
            "AttributeError: 'TypeError' object has no attribute '_render_traceback_'\n",
            "\n",
            "During handling of the above exception, another exception occurred:\n",
            "\n",
            "Traceback (most recent call last):\n",
            "  File \"/usr/local/lib/python3.10/dist-packages/IPython/core/interactiveshell.py\", line 3030, in _run_cell\n",
            "    return runner(coro)\n",
            "  File \"/usr/local/lib/python3.10/dist-packages/IPython/core/async_helpers.py\", line 78, in _pseudo_sync_runner\n",
            "    coro.send(None)\n",
            "  File \"/usr/local/lib/python3.10/dist-packages/IPython/core/interactiveshell.py\", line 3257, in run_cell_async\n",
            "    has_raised = await self.run_ast_nodes(code_ast.body, cell_name,\n",
            "  File \"/usr/local/lib/python3.10/dist-packages/IPython/core/interactiveshell.py\", line 3492, in run_ast_nodes\n",
            "    self.showtraceback()\n",
            "  File \"/usr/local/lib/python3.10/dist-packages/IPython/core/interactiveshell.py\", line 2101, in showtraceback\n",
            "    stb = self.InteractiveTB.structured_traceback(etype,\n",
            "  File \"/usr/local/lib/python3.10/dist-packages/IPython/core/ultratb.py\", line 1367, in structured_traceback\n",
            "    return FormattedTB.structured_traceback(\n",
            "  File \"/usr/local/lib/python3.10/dist-packages/IPython/core/ultratb.py\", line 1267, in structured_traceback\n",
            "    return VerboseTB.structured_traceback(\n",
            "  File \"/usr/local/lib/python3.10/dist-packages/IPython/core/ultratb.py\", line 1142, in structured_traceback\n",
            "    formatted_exceptions += self.format_exception_as_a_whole(etype, evalue, etb, lines_of_context,\n",
            "  File \"/usr/local/lib/python3.10/dist-packages/IPython/core/ultratb.py\", line 1082, in format_exception_as_a_whole\n",
            "    last_unique, recursion_repeat = find_recursion(orig_etype, evalue, records)\n",
            "  File \"/usr/local/lib/python3.10/dist-packages/IPython/core/ultratb.py\", line 382, in find_recursion\n",
            "    return len(records), 0\n",
            "TypeError: object of type 'NoneType' has no len()\n",
            "\n",
            "During handling of the above exception, another exception occurred:\n",
            "\n",
            "Traceback (most recent call last):\n",
            "  File \"/usr/local/lib/python3.10/dist-packages/IPython/core/interactiveshell.py\", line 2099, in showtraceback\n",
            "    stb = value._render_traceback_()\n",
            "AttributeError: 'TypeError' object has no attribute '_render_traceback_'\n",
            "\n",
            "During handling of the above exception, another exception occurred:\n",
            "\n",
            "Traceback (most recent call last):\n",
            "  File \"/usr/local/lib/python3.10/dist-packages/IPython/core/ultratb.py\", line 1101, in get_records\n",
            "    return _fixed_getinnerframes(etb, number_of_lines_of_context, tb_offset)\n",
            "  File \"/usr/local/lib/python3.10/dist-packages/IPython/core/ultratb.py\", line 248, in wrapped\n",
            "    return f(*args, **kwargs)\n",
            "  File \"/usr/local/lib/python3.10/dist-packages/IPython/core/ultratb.py\", line 281, in _fixed_getinnerframes\n",
            "    records = fix_frame_records_filenames(inspect.getinnerframes(etb, context))\n",
            "  File \"/usr/lib/python3.10/inspect.py\", line 1662, in getinnerframes\n",
            "    frameinfo = (tb.tb_frame,) + getframeinfo(tb, context)\n",
            "  File \"/usr/lib/python3.10/inspect.py\", line 1620, in getframeinfo\n",
            "    filename = getsourcefile(frame) or getfile(frame)\n",
            "  File \"/usr/lib/python3.10/inspect.py\", line 829, in getsourcefile\n",
            "    module = getmodule(object, filename)\n",
            "  File \"/usr/lib/python3.10/inspect.py\", line 861, in getmodule\n",
            "    file = getabsfile(object, _filename)\n",
            "  File \"/usr/lib/python3.10/inspect.py\", line 845, in getabsfile\n",
            "    return os.path.normcase(os.path.abspath(_filename))\n",
            "  File \"/usr/lib/python3.10/posixpath.py\", line 384, in abspath\n",
            "    cwd = os.getcwd()\n",
            "OSError: [Errno 107] Transport endpoint is not connected\n"
          ]
        }
      ],
      "source": [
        "# Create a pipeline with a StandardScaler and KNeighborsClassifier\n",
        "pipeline = Pipeline([\n",
        "    ('knn', KNeighborsClassifier())\n",
        "])\n",
        "\n",
        "# Define the parameter grid\n",
        "param_dist = {\n",
        "    'knn__n_neighbors': randint(1, 20),  # Number of neighbors\n",
        "    'knn__weights': ['uniform', 'distance'],  # Weighting strategy\n",
        "    'knn__p': [1, 2]  # Power parameter for Minkowski distance\n",
        "}\n",
        "\n",
        "# Create a RandomizedSearchCV object\n",
        "random_search = RandomizedSearchCV(\n",
        "    pipeline,\n",
        "    param_distributions=param_dist,\n",
        "    n_iter=5,  # Number of parameter settings sampled\n",
        "    scoring='f1_macro',  # Use an appropriate scoring metric\n",
        "    cv=3,  # Number of cross-validation folds\n",
        "    verbose=2,\n",
        "    random_state=42\n",
        ")\n",
        "\n",
        "# Fit the random search to the data\n",
        "random_search.fit(X_train_resampled, y_train_resampled)\n",
        "\n",
        "# Print the best hyperparameters\n",
        "print(\"Best Hyperparameters KNN smote:\", random_search.best_params_)\n",
        "\n",
        "# Get the best model\n",
        "best_model = random_search.best_estimator_\n",
        "\n",
        "y_pred = best_model.predict(X_valid_transformed)\n",
        "\n",
        "#save model to a file\n",
        "joblib.dump(best_model, 'knn_smote.pkl')"
      ]
    },
    {
      "cell_type": "code",
      "execution_count": null,
      "metadata": {
        "id": "7A-iU4mvH7Bq"
      },
      "outputs": [],
      "source": [
        "###best hyperparameters KNN smote - make the model & save"
      ]
    },
    {
      "cell_type": "code",
      "execution_count": null,
      "metadata": {
        "id": "82WNbV78VkTW"
      },
      "outputs": [],
      "source": [
        "#best hyperparameters per search above\n",
        "knn_hyperparameters = {'n_neighbors': 4, 'p': 2, 'weights': 'distance'}\n",
        "\n",
        "#k-NN classifier\n",
        "knn_model = KNeighborsClassifier(\n",
        "    n_neighbors=knn_hyperparameters['n_neighbors'],\n",
        "    p=knn_hyperparameters['p'],\n",
        "    weights=knn_hyperparameters['weights']\n",
        ")"
      ]
    },
    {
      "cell_type": "code",
      "execution_count": null,
      "metadata": {
        "id": "RByF7sJOZUCd"
      },
      "outputs": [],
      "source": [
        "# Create a pipeline with k-NN\n",
        "pipeline = Pipeline([\n",
        "    ('knn', knn_model)\n",
        "])\n",
        "\n",
        "# Fit the model to your training data\n",
        "# Assuming X_train is your training data and y_train is your training labels\n",
        "best_model = pipeline.fit(X_train_resampled, y_train_resampled)\n",
        "\n",
        "# Predict with the trained model\n",
        "# Assuming X_test is your test data\n",
        "y_pred = pipeline.predict(X_valid_transformed)"
      ]
    },
    {
      "cell_type": "code",
      "execution_count": null,
      "metadata": {
        "colab": {
          "base_uri": "https://localhost:8080/"
        },
        "id": "ZUCIR107ZUA2",
        "outputId": "8e0f9441-3972-485b-9eb6-1483b7e0aa88"
      },
      "outputs": [
        {
          "data": {
            "text/plain": [
              "['knn_smote.pkl']"
            ]
          },
          "execution_count": 9,
          "metadata": {},
          "output_type": "execute_result"
        }
      ],
      "source": [
        "#save model to a file\n",
        "joblib.dump(best_model, 'knn_smote.pkl')"
      ]
    },
    {
      "cell_type": "code",
      "execution_count": null,
      "metadata": {
        "colab": {
          "base_uri": "https://localhost:8080/"
        },
        "id": "DQyBos39MUji",
        "outputId": "a1bcc3fe-4b70-4092-848e-7f720c16eb51"
      },
      "outputs": [
        {
          "name": "stdout",
          "output_type": "stream",
          "text": [
            "F1 Score: 0.5235\n"
          ]
        }
      ],
      "source": [
        "f1 = f1_score(y_valid, y_pred, average = \"macro\")\n",
        "print(f\"F1 Score: {f1:.4f}\")"
      ]
    },
    {
      "cell_type": "code",
      "execution_count": null,
      "metadata": {
        "colab": {
          "base_uri": "https://localhost:8080/"
        },
        "id": "uRmSh3oVMUji",
        "outputId": "f54e7a8a-5866-4984-83d4-cf05217834b5"
      },
      "outputs": [
        {
          "name": "stdout",
          "output_type": "stream",
          "text": [
            "F1 Score: 0.9536\n"
          ]
        }
      ],
      "source": [
        "f1 = f1_score(y_valid, y_pred, average = \"weighted\")\n",
        "print(f\"F1 Score: {f1:.4f}\")"
      ]
    },
    {
      "cell_type": "code",
      "execution_count": null,
      "metadata": {
        "colab": {
          "base_uri": "https://localhost:8080/"
        },
        "id": "tAAd4QjyMUji",
        "outputId": "0d2db85b-0f8a-4eb6-c879-6cb559054e6b"
      },
      "outputs": [
        {
          "name": "stdout",
          "output_type": "stream",
          "text": [
            "Confusion Matrix:\n",
            "[[148039  10285]\n",
            " [  1150    526]]\n",
            "\n",
            "Classification Report:\n",
            "              precision    recall  f1-score   support\n",
            "\n",
            "           0       0.99      0.94      0.96    158324\n",
            "           1       0.05      0.31      0.08      1676\n",
            "\n",
            "    accuracy                           0.93    160000\n",
            "   macro avg       0.52      0.62      0.52    160000\n",
            "weighted avg       0.98      0.93      0.95    160000\n",
            "\n"
          ]
        }
      ],
      "source": [
        "##confusion matrix & classification report\n",
        "print(\"Confusion Matrix:\")\n",
        "print(confusion_matrix(y_valid, y_pred))\n",
        "\n",
        "print(\"\\nClassification Report:\")\n",
        "print(classification_report(y_valid, y_pred))"
      ]
    },
    {
      "cell_type": "code",
      "execution_count": null,
      "metadata": {
        "colab": {
          "base_uri": "https://localhost:8080/",
          "height": 449
        },
        "id": "hIckEwUfMUji",
        "outputId": "94b80334-3d8c-4a40-dfa2-5357abfe18eb"
      },
      "outputs": [
        {
          "data": {
            "image/png": "[encoded data removed]",
            "text/plain": [
              "<Figure size 640x480 with 1 Axes>"
            ]
          },
          "metadata": {},
          "output_type": "display_data"
        }
      ],
      "source": [
        "from sklearn.metrics import precision_recall_curve, auc\n",
        "import matplotlib.pyplot as plt\n",
        "\n",
        "# Assuming y_valid and probabilities are available\n",
        "y_valid =  y_valid\n",
        "probabilities = best_model.predict_proba(X_valid_transformed)[:, 1]  # Probabilities of the positive class\n",
        "\n",
        "# Calculate the \"No Skill\" precision\n",
        "\n",
        "# Calculate precision-recall pairs\n",
        "precision, recall, _ = precision_recall_curve(y_valid, probabilities)\n",
        "auc = auc(recall, precision)\n",
        "\n",
        "# Plot the precision-recall curve\n",
        "\n",
        "plt.plot(recall, precision, marker=\".\", label=f\"AUC (KNN SMOTE) = {auc:.4f}\")\n",
        "\n",
        "# Axis labels\n",
        "plt.xlabel(\"Recall\")\n",
        "plt.ylabel(\"Precision\")\n",
        "\n",
        "# Show the legend\n",
        "plt.legend()\n",
        "\n",
        "# Show the plot\n",
        "plt.show()\n"
      ]
    },
    {
      "cell_type": "code",
      "execution_count": null,
      "metadata": {
        "colab": {
          "base_uri": "https://localhost:8080/"
        },
        "id": "VjBo8xd1MUji",
        "outputId": "5f3a48cb-b6e1-48d6-9e15-a1c9d7a256e4"
      },
      "outputs": [
        {
          "name": "stdout",
          "output_type": "stream",
          "text": [
            "Area Under the Precision-Recall Curve (AUC-PR): 0.0289\n"
          ]
        }
      ],
      "source": [
        "average_precision = average_precision_score(y_valid, probabilities)\n",
        "\n",
        "print(f'Area Under the Precision-Recall Curve (AUC-PR): {average_precision:.4f}')"
      ]
    },
    {
      "cell_type": "code",
      "execution_count": null,
      "metadata": {
        "colab": {
          "base_uri": "https://localhost:8080/"
        },
        "id": "S3GUvdKNMUji",
        "outputId": "dce4a88b-048b-4e30-cb61-a63fcd9a838a"
      },
      "outputs": [
        {
          "name": "stdout",
          "output_type": "stream",
          "text": [
            "Class 0: F1 Score = 0.96\n",
            "Class 1: F1 Score = 0.08\n",
            "Class accuracy: F1 Score = 0.93\n",
            "Class macro: F1 Score = 0.52\n",
            "Class weighted: F1 Score = 0.95\n"
          ]
        }
      ],
      "source": [
        "class_report = classification_report(y_valid, y_pred)\n",
        "\n",
        "# Print F1 scores per class\n",
        "for line in class_report.split('\\n')[2:-1]:\n",
        "    row = line.split()\n",
        "    if len(row) > 1:\n",
        "        class_label = row[0]\n",
        "        f1 = float(row[-2])\n",
        "        print(f\"Class {class_label}: F1 Score = {f1:.2f}\")"
      ]
    },
    {
      "cell_type": "code",
      "execution_count": null,
      "metadata": {
        "id": "5Gy0tKMNMUjj"
      },
      "outputs": [],
      "source": [
        "train_sizes = np.linspace(0.1, 1.0, 10)\n",
        "scoring = \"f1_macro\"\n",
        "plot_learning_curve(best_model, X_train_resampled, y_train_resampled, scoring, train_sizes)"
      ]
    },
    {
      "cell_type": "code",
      "execution_count": null,
      "metadata": {
        "id": "qT8xQnw5IF1y"
      },
      "outputs": [],
      "source": [
        "# Calculate precision-recall curve for class 1\n",
        "precision_class1, recall_class1, _ = precision_recall_curve(y_valid, best_model.predict_proba(X_valid_transformed)[:, 1])\n",
        "auc_score_class1 = auc(recall_class1, precision_class1)\n",
        "\n",
        "# Calculate precision-recall curve for class 0\n",
        "precision_class0, recall_class0, _ = precision_recall_curve(1 - y_valid, 1 - best_model.predict_proba(X_valid_transformed)[:, 0])  # Invert labels for class 0\n",
        "auc_score_class0 = auc(recall_class0, precision_class0)\n",
        "\n",
        "# Plot the precision-recall curves\n",
        "plt.figure(figsize=(8, 6))\n",
        "\n",
        "# Plot precision-recall curve for class 1\n",
        "plt.step(recall_class1, precision_class1, color='b', alpha=0.2, where='post', label=f'Class 1 (AUC = {auc_score_class1:.2f})')\n",
        "plt.fill_between(recall_class1, precision_class1, step='post', alpha=0.2, color='b')\n",
        "\n",
        "# Plot precision-recall curve for class 0\n",
        "plt.step(recall_class0, precision_class0, color='r', alpha=0.2, where='post', label=f'Class 0 (AUC = {auc_score_class0:.2f})')\n",
        "plt.fill_between(recall_class0, precision_class0, step='post', alpha=0.2, color='r')\n",
        "\n",
        "plt.xlabel('Recall')\n",
        "plt.ylabel('Precision')\n",
        "plt.ylim([0.0, 1.05])\n",
        "plt.xlim([0.0, 1.0])\n",
        "plt.title('Precision-Recall Curve for Binary Classification')\n",
        "plt.legend(loc='lower left')\n",
        "plt.show()\n",
        "\n",
        "print(f\"AUC Class 1: {auc_score_class1:.4f}\")\n",
        "print(f\"AUC Class 0: {auc_score_class0:.4f}\")"
      ]
    },
    {
      "cell_type": "code",
      "execution_count": null,
      "metadata": {
        "colab": {
          "base_uri": "https://localhost:8080/",
          "height": 564
        },
        "id": "SkrPjM-CMUjj",
        "outputId": "7980cc37-643f-4ea3-f70f-f85d8e173f65"
      },
      "outputs": [
        {
          "data": {
            "image/png": "[encoded data removed]",
            "text/plain": [
              "<Figure size 1000x600 with 1 Axes>"
            ]
          },
          "metadata": {},
          "output_type": "display_data"
        }
      ],
      "source": [
        "##custom scorer\n",
        "\n",
        "#obtain predicted probabilities for the positive class from the model\n",
        "y_prob = best_model.predict_proba(X_valid_transformed)[:, 1]\n",
        "\n",
        "#make a list of touples with predicted probabilities and true labels in descending order\n",
        "sorted_probs = sorted(zip(y_prob, y_valid), key=lambda x: x[0], reverse=True)\n",
        "\n",
        "#calculate cumulative sum of true positives\n",
        "cumulative_tp = [0] + list(np.cumsum([y == 1 for _, y in sorted_probs]))\n",
        "\n",
        "#find the threshold where cumulative TP is closest to 90%\n",
        "target_cumulative_tp = int(0.9 * cumulative_tp[-1])\n",
        "threshold = next(prob for prob, _ in sorted_probs if cumulative_tp[np.searchsorted(cumulative_tp, target_cumulative_tp)] >= target_cumulative_tp) #find the threshold value where the cumulative TP is the closest to the target cumulative TP\n",
        "\n",
        "#applu the threshold to classify positive and negative instances\n",
        "y_pred = (y_prob >= threshold).astype(int) #astype to convert booleans to 0 and 1\n",
        "\n",
        "#evaluate the model using the chosen threshold\n",
        "conf_matrix = confusion_matrix(y_valid, y_pred)\n",
        "fpr = conf_matrix[0, 1] / (conf_matrix[0, 1] + conf_matrix[0, 0])\n",
        "recall = recall_score(y_valid, y_pred)\n",
        "\n",
        "print(f\"Chosen threshold: {threshold}\")\n",
        "print(f\"False Positive Rate: {fpr}\")\n",
        "print(f\"Recall: {recall}\")\n",
        "print(conf_matrix)\n",
        "\n"
      ]
    },
    {
      "cell_type": "code",
      "execution_count": null,
      "metadata": {
        "id": "pT71aXhqMUjj"
      },
      "outputs": [],
      "source": [
        "##KNN with ADASYN\n",
        "\n",
        "X_train_resampled = pd.read_csv('X_train_transformed_adasyn.csv')\n",
        "\n",
        "y_train_resampled = pd.read_csv('y_train_adasyn.csv')\n",
        "\n",
        "y_train_resampled = np.ravel(y_train_resampled.values)\n"
      ]
    },
    {
      "cell_type": "code",
      "execution_count": null,
      "metadata": {
        "colab": {
          "base_uri": "https://localhost:8080/"
        },
        "id": "nFDADQgCILMw",
        "outputId": "a5b09503-23fe-4339-e583-5eb253080990"
      },
      "outputs": [
        {
          "name": "stdout",
          "output_type": "stream",
          "text": [
            "Number of features is the same in training and validation sets.\n"
          ]
        }
      ],
      "source": [
        "#convert arrays to pandas df\n",
        "X_train_df = pd.DataFrame(X_train_resampled)\n",
        "X_valid_df = pd.DataFrame(X_valid_transformed)\n",
        "\n",
        "#get the columns/features of each dataset\n",
        "features_train = set(X_train_df.columns)\n",
        "features_valid = set(X_valid_df.columns)\n",
        "\n",
        "#check if the features are the same\n",
        "if features_train == features_valid:\n",
        "    print(\"Number of features is the same in training and validation sets.\")\n",
        "else:\n",
        "    print(\"Number of features is different in training and validation sets.\")"
      ]
    },
    {
      "cell_type": "code",
      "execution_count": null,
      "metadata": {
        "id": "fYcB0XiBTj3S"
      },
      "outputs": [],
      "source": [
        "##50% of dataset used for tuning\n",
        "\n",
        "# Assuming X and y are your features and labels\n",
        "X_train_tune, X_test_tune, y_train_tune, y_test_tune = train_test_split(X_train_resampled, y_train_resampled, test_size=0.5, random_state=42)\n"
      ]
    },
    {
      "cell_type": "code",
      "execution_count": null,
      "metadata": {
        "colab": {
          "base_uri": "https://localhost:8080/"
        },
        "id": "CPaD-MmDjMSQ",
        "outputId": "ddb784f2-843a-4f08-a868-87e56b9d7c7f"
      },
      "outputs": [
        {
          "name": "stdout",
          "output_type": "stream",
          "text": [
            "Fitting 3 folds for each of 5 candidates, totalling 15 fits\n",
            "[CV] END knn__n_neighbors=3, knn__p=1, knn__weights=distance; total time=71.9min\n",
            "[CV] END knn__n_neighbors=3, knn__p=1, knn__weights=distance; total time=72.1min\n",
            "[CV] END knn__n_neighbors=3, knn__p=1, knn__weights=distance; total time=71.5min\n",
            "[CV] END knn__n_neighbors=10, knn__p=1, knn__weights=distance; total time=71.7min\n",
            "[CV] END knn__n_neighbors=10, knn__p=1, knn__weights=distance; total time=71.5min\n",
            "[CV] END knn__n_neighbors=10, knn__p=1, knn__weights=distance; total time=71.9min\n",
            "[CV] END .knn__n_neighbors=3, knn__p=1, knn__weights=uniform; total time=71.7min\n",
            "[CV] END .knn__n_neighbors=3, knn__p=1, knn__weights=uniform; total time=71.4min\n",
            "[CV] END .knn__n_neighbors=3, knn__p=1, knn__weights=uniform; total time=71.3min\n",
            "[CV] END knn__n_neighbors=7, knn__p=1, knn__weights=distance; total time=71.0min\n",
            "[CV] END knn__n_neighbors=7, knn__p=1, knn__weights=distance; total time=70.4min\n",
            "[CV] END knn__n_neighbors=7, knn__p=1, knn__weights=distance; total time=69.7min\n",
            "[CV] END .knn__n_neighbors=1, knn__p=1, knn__weights=uniform; total time=68.9min\n",
            "[CV] END .knn__n_neighbors=1, knn__p=1, knn__weights=uniform; total time=69.1min\n",
            "[CV] END .knn__n_neighbors=1, knn__p=1, knn__weights=uniform; total time=68.7min\n",
            "Best Hyperparameters KNN adasyn: {'knn__weights': 'uniform', 'knn__p': 1, 'knn__n_neighbors': 1}\n"
          ]
        }
      ],
      "source": [
        "\n",
        "# Create a pipeline with a StandardScaler and KNeighborsClassifier\n",
        "pipeline = Pipeline([\n",
        "    ('knn', KNeighborsClassifier())\n",
        "])\n",
        "\n",
        "# Define the parameter grid\n",
        "param_dist = {\n",
        "    'knn__n_neighbors': [1, 2, 3, 4, 5, 7, 10],  # Number of neighbors\n",
        "    'knn__weights': ['uniform', 'distance'],  # Weighting strategy\n",
        "    'knn__p': [1, 2]  # Power parameter for Minkowski distance\n",
        "}\n",
        "\n",
        "# Create a RandomizedSearchCV object\n",
        "random_search = RandomizedSearchCV(\n",
        "    pipeline,\n",
        "    param_distributions=param_dist,\n",
        "    n_iter=5,  # Number of parameter settings sampled\n",
        "    scoring='f1_macro',  # Use an appropriate scoring metric\n",
        "    cv=3,  # Number of cross-validation folds\n",
        "    verbose=2,\n",
        "    random_state=42\n",
        ")\n",
        "\n",
        "# Fit the random search to the data\n",
        "random_search.fit(X_train_tune, y_train_tune)\n",
        "\n",
        "# Print the best hyperparameters\n",
        "print(\"Best Hyperparameters KNN adasyn:\", random_search.best_params_)\n",
        "\n",
        "#fit the model on full data\n",
        "best_params = random_search.best_params_\n",
        "best_model = Pipeline([\n",
        "    ('knn', KNeighborsClassifier(n_neighbors=best_params['knn__n_neighbors'],\n",
        "                                  weights=best_params['knn__weights'],\n",
        "                                  p=best_params['knn__p']))\n",
        "])\n",
        "\n",
        "# Fit the final model on the full dataset\n",
        "best_model.fit(X_train_resampled, y_train_resampled)\n",
        "\n",
        "y_pred = best_model.predict(X_valid_transformed)\n",
        "\n",
        "#save model to a file\n",
        "joblib.dump(best_model, 'knn_adasyn.pkl')\n"
      ]
    },
    {
      "cell_type": "code",
      "execution_count": null,
      "metadata": {
        "id": "COidQB_msqZ9"
      },
      "outputs": [],
      "source": [
        "#best hyperparameters per search above\n",
        "knn_hyperparameters = {'n_neighbors': 1, 'p': 1, 'weights': 'uniform'}\n",
        "\n",
        "#k-NN classifier\n",
        "knn_model = KNeighborsClassifier(\n",
        "    n_neighbors=knn_hyperparameters['n_neighbors'],\n",
        "    p=knn_hyperparameters['p'],\n",
        "    weights=knn_hyperparameters['weights']\n",
        ")"
      ]
    },
    {
      "cell_type": "code",
      "execution_count": null,
      "metadata": {
        "colab": {
          "base_uri": "https://localhost:8080/"
        },
        "id": "WZz1ztRcpzKX",
        "outputId": "7dd6a025-7993-4fde-a30a-69d999776254"
      },
      "outputs": [
        {
          "data": {
            "text/plain": [
              "['knn_adasyn.pkl']"
            ]
          },
          "execution_count": 9,
          "metadata": {},
          "output_type": "execute_result"
        }
      ],
      "source": [
        "# Create a pipeline with k-NN\n",
        "pipeline = Pipeline([\n",
        "    ('knn', knn_model)\n",
        "])\n",
        "\n",
        "# Fit the model to your training data\n",
        "# Assuming X_train is your training data and y_train is your training labels\n",
        "best_model = pipeline.fit(X_train_resampled, y_train_resampled)\n",
        "\n",
        "# Predict with the trained model\n",
        "# Assuming X_test is your test data\n",
        "y_pred = best_model.predict(X_valid_transformed)\n",
        "\n",
        "#save model to a file\n",
        "joblib.dump(best_model, 'knn_adasyn.pkl')"
      ]
    },
    {
      "cell_type": "code",
      "execution_count": null,
      "metadata": {
        "colab": {
          "base_uri": "https://localhost:8080/"
        },
        "id": "UVlMfITSjMOa",
        "outputId": "2c4e7e65-c4dd-4dd9-cd63-96e269dfd00b"
      },
      "outputs": [
        {
          "name": "stdout",
          "output_type": "stream",
          "text": [
            "F1 Score: 0.5416\n"
          ]
        }
      ],
      "source": [
        "f1 = f1_score(y_valid, y_pred, average = \"macro\")\n",
        "print(f\"F1 Score: {f1:.4f}\")"
      ]
    },
    {
      "cell_type": "code",
      "execution_count": null,
      "metadata": {
        "colab": {
          "base_uri": "https://localhost:8080/"
        },
        "id": "UnWn9cNojPo0",
        "outputId": "ef192fab-cdac-417a-840a-29e586dd466b"
      },
      "outputs": [
        {
          "name": "stdout",
          "output_type": "stream",
          "text": [
            "F1 Score: 0.9775\n"
          ]
        }
      ],
      "source": [
        "f1 = f1_score(y_valid, y_pred, average = \"weighted\")\n",
        "print(f\"F1 Score: {f1:.4f}\")"
      ]
    },
    {
      "cell_type": "code",
      "execution_count": null,
      "metadata": {
        "colab": {
          "base_uri": "https://localhost:8080/"
        },
        "id": "YFpdOV1LjPmo",
        "outputId": "f53c5ae4-969a-4163-8b4e-441712739812"
      },
      "outputs": [
        {
          "name": "stdout",
          "output_type": "stream",
          "text": [
            "Confusion Matrix:\n",
            "[[155635   2689]\n",
            " [  1455    221]]\n",
            "\n",
            "Classification Report:\n",
            "              precision    recall  f1-score   support\n",
            "\n",
            "           0       0.99      0.98      0.99    158324\n",
            "           1       0.08      0.13      0.10      1676\n",
            "\n",
            "    accuracy                           0.97    160000\n",
            "   macro avg       0.53      0.56      0.54    160000\n",
            "weighted avg       0.98      0.97      0.98    160000\n",
            "\n"
          ]
        }
      ],
      "source": [
        "##confusion matrix & classification report\n",
        "print(\"Confusion Matrix:\")\n",
        "print(confusion_matrix(y_valid, y_pred))\n",
        "\n",
        "print(\"\\nClassification Report:\")\n",
        "print(classification_report(y_valid, y_pred))"
      ]
    },
    {
      "cell_type": "code",
      "execution_count": null,
      "metadata": {
        "colab": {
          "base_uri": "https://localhost:8080/",
          "height": 449
        },
        "id": "Ph4OHjt4jPkr",
        "outputId": "88eb6d23-bab7-4105-f64e-3a6729dcfa14"
      },
      "outputs": [
        {
          "data": {
            "image/png": "[encoded data removed]",
            "text/plain": [
              "<Figure size 640x480 with 1 Axes>"
            ]
          },
          "metadata": {},
          "output_type": "display_data"
        }
      ],
      "source": [
        "# Assuming y_valid and probabilities are available\n",
        "y_valid =  y_valid\n",
        "probabilities = best_model.predict_proba(X_valid_transformed)[:, 1]  # Probabilities of the positive class\n",
        "\n",
        "# Calculate the \"No Skill\" precision\n",
        "\n",
        "# Calculate precision-recall pairs\n",
        "precision_dt, recall_dt, _ = precision_recall_curve(y_valid, probabilities)\n",
        "auc_dt = auc(recall_dt, precision_dt)\n",
        "\n",
        "# Plot the precision-recall curve\n",
        "\n",
        "plt.plot(recall_dt, precision_dt, marker=\".\", label=f\"AUC (KNN Adasyn) = {auc_dt:.4f}\")\n",
        "\n",
        "# Axis labels\n",
        "plt.xlabel(\"Recall\")\n",
        "plt.ylabel(\"Precision\")\n",
        "\n",
        "# Show the legend\n",
        "plt.legend()\n",
        "\n",
        "# Show the plot\n",
        "plt.show()"
      ]
    },
    {
      "cell_type": "code",
      "execution_count": null,
      "metadata": {
        "colab": {
          "base_uri": "https://localhost:8080/"
        },
        "id": "491h4tEWjMMx",
        "outputId": "05a7a2ca-8675-4528-817f-6382893ec463"
      },
      "outputs": [
        {
          "name": "stdout",
          "output_type": "stream",
          "text": [
            "Area Under the Precision-Recall Curve (AUC-PR): 0.0191\n"
          ]
        }
      ],
      "source": [
        "average_precision = average_precision_score(y_valid, probabilities)\n",
        "\n",
        "print(f'Area Under the Precision-Recall Curve (AUC-PR): {average_precision:.4f}')"
      ]
    },
    {
      "cell_type": "code",
      "execution_count": null,
      "metadata": {
        "colab": {
          "base_uri": "https://localhost:8080/"
        },
        "id": "JZS0oTp_kuzh",
        "outputId": "a30e891e-7915-46d7-adbb-624be25984bd"
      },
      "outputs": [
        {
          "name": "stdout",
          "output_type": "stream",
          "text": [
            "Class 0: F1 Score = 0.99\n",
            "Class 1: F1 Score = 0.10\n",
            "Class accuracy: F1 Score = 0.97\n",
            "Class macro: F1 Score = 0.54\n",
            "Class weighted: F1 Score = 0.98\n"
          ]
        }
      ],
      "source": [
        "class_report = classification_report(y_valid, y_pred)\n",
        "\n",
        "# Print F1 scores per class\n",
        "for line in class_report.split('\\n')[2:-1]:\n",
        "    row = line.split()\n",
        "    if len(row) > 1:\n",
        "        class_label = row[0]\n",
        "        f1 = float(row[-2])\n",
        "        print(f\"Class {class_label}: F1 Score = {f1:.2f}\")"
      ]
    },
    {
      "cell_type": "code",
      "execution_count": null,
      "metadata": {
        "id": "Yvhcd-3nIokU"
      },
      "outputs": [],
      "source": [
        "# Calculate precision-recall curve for class 1\n",
        "precision_class1, recall_class1, _ = precision_recall_curve(y_valid, best_logistic_regression.predict_proba(X_valid_transformed)[:, 1])\n",
        "auc_score_class1 = auc(recall_class1, precision_class1)\n",
        "\n",
        "# Calculate precision-recall curve for class 0\n",
        "precision_class0, recall_class0, _ = precision_recall_curve(1 - y_valid, 1 - best_logistic_regression.predict_proba(X_valid_transformed)[:, 0])  # Invert labels for class 0\n",
        "auc_score_class0 = auc(recall_class0, precision_class0)\n",
        "\n",
        "# Plot the precision-recall curves\n",
        "plt.figure(figsize=(8, 6))\n",
        "\n",
        "# Plot precision-recall curve for class 1\n",
        "plt.step(recall_class1, precision_class1, color='b', alpha=0.2, where='post', label=f'Class 1 (AUC = {auc_score_class1:.2f})')\n",
        "plt.fill_between(recall_class1, precision_class1, step='post', alpha=0.2, color='b')\n",
        "\n",
        "# Plot precision-recall curve for class 0\n",
        "plt.step(recall_class0, precision_class0, color='r', alpha=0.2, where='post', label=f'Class 0 (AUC = {auc_score_class0:.2f})')\n",
        "plt.fill_between(recall_class0, precision_class0, step='post', alpha=0.2, color='r')\n",
        "\n",
        "plt.xlabel('Recall')\n",
        "plt.ylabel('Precision')\n",
        "plt.ylim([0.0, 1.05])\n",
        "plt.xlim([0.0, 1.0])\n",
        "plt.title('Precision-Recall Curve for Binary Classification')\n",
        "plt.legend(loc='lower left')\n",
        "plt.show()\n",
        "\n",
        "print(f\"AUC Class 1: {auc_score_class1:.4f}\")\n",
        "print(f\"AUC Class 0: {auc_score_class0:.4f}\")"
      ]
    },
    {
      "cell_type": "code",
      "execution_count": null,
      "metadata": {
        "id": "8vbv4_QkkuxK"
      },
      "outputs": [],
      "source": [
        "train_sizes = np.linspace(0.1, 1.0, 10)\n",
        "scoring = \"f1_macro\"\n",
        "plot_learning_curve(best_model, X_train_resampled, y_train_resampled, scoring, train_sizes)"
      ]
    },
    {
      "cell_type": "code",
      "execution_count": null,
      "metadata": {
        "id": "_lBMFo1qIq0m"
      },
      "outputs": [],
      "source": [
        "##custom scorer\n",
        "\n",
        "#obtain predicted probabilities for the positive class from the model\n",
        "y_prob = best_model.predict_proba(X_valid_transformed)[:, 1]\n",
        "\n",
        "#make a list of touples with predicted probabilities and true labels in descending order\n",
        "sorted_probs = sorted(zip(y_prob, y_valid), key=lambda x: x[0], reverse=True)\n",
        "\n",
        "#calculate cumulative sum of true positives\n",
        "cumulative_tp = [0] + list(np.cumsum([y == 1 for _, y in sorted_probs]))\n",
        "\n",
        "#find the threshold where cumulative TP is closest to 90%\n",
        "target_cumulative_tp = int(0.9 * cumulative_tp[-1])\n",
        "threshold = next(prob for prob, _ in sorted_probs if cumulative_tp[np.searchsorted(cumulative_tp, target_cumulative_tp)] >= target_cumulative_tp) #find the threshold value where the cumulative TP is the closest to the target cumulative TP\n",
        "\n",
        "#applu the threshold to classify positive and negative instances\n",
        "y_pred = (y_prob >= threshold).astype(int) #astype to convert booleans to 0 and 1\n",
        "\n",
        "#evaluate the model using the chosen threshold\n",
        "conf_matrix = confusion_matrix(y_valid, y_pred)\n",
        "fpr = conf_matrix[0, 1] / (conf_matrix[0, 1] + conf_matrix[0, 0])\n",
        "recall = recall_score(y_valid, y_pred)\n",
        "\n",
        "print(f\"Chosen threshold: {threshold}\")\n",
        "print(f\"False Positive Rate: {fpr}\")\n",
        "print(f\"Recall: {recall}\")\n",
        "print(conf_matrix)\n",
        "\n"
      ]
    },
    {
      "cell_type": "code",
      "execution_count": null,
      "metadata": {
        "id": "7N5RIaSqMUjj"
      },
      "outputs": [],
      "source": [
        "##KNN random undersampling 3/7\n",
        "X_train_undersampled = pd.read_csv('X_train_random_undersampl.csv')\n",
        "\n",
        "y_train_undersampled = pd.read_csv('y_train_random_undersampl.csv')\n",
        "\n",
        "y_train_undersampled = np.ravel(y_train_undersampled.values)"
      ]
    },
    {
      "cell_type": "code",
      "execution_count": null,
      "metadata": {
        "colab": {
          "base_uri": "https://localhost:8080/"
        },
        "id": "v42X_iwwI0BJ",
        "outputId": "7332ada0-39b4-4419-ef96-fef7ee26cde9"
      },
      "outputs": [
        {
          "name": "stdout",
          "output_type": "stream",
          "text": [
            "Number of features is the same in training and validation sets.\n"
          ]
        }
      ],
      "source": [
        "#convert arrays to pandas df\n",
        "X_train_df = pd.DataFrame(X_train_undersampled)\n",
        "X_valid_df = pd.DataFrame(X_valid_transformed)\n",
        "\n",
        "#get the columns/features of each dataset\n",
        "features_train = set(X_train_df.columns)\n",
        "features_valid = set(X_valid_df.columns)\n",
        "\n",
        "#check if the features are the same\n",
        "if features_train == features_valid:\n",
        "    print(\"Number of features is the same in training and validation sets.\")\n",
        "else:\n",
        "    print(\"Number of features is different in training and validation sets.\")"
      ]
    },
    {
      "cell_type": "code",
      "execution_count": null,
      "metadata": {
        "colab": {
          "base_uri": "https://localhost:8080/"
        },
        "id": "u-LCp3ZhmjkT",
        "outputId": "44fd316c-1903-44c1-9a12-317d4bee245f"
      },
      "outputs": [
        {
          "name": "stdout",
          "output_type": "stream",
          "text": [
            "Fitting 3 folds for each of 5 candidates, totalling 15 fits\n",
            "[CV] END .knn__n_neighbors=7, knn__p=2, knn__weights=uniform; total time=   2.1s\n",
            "[CV] END .knn__n_neighbors=7, knn__p=2, knn__weights=uniform; total time=   1.9s\n",
            "[CV] END .knn__n_neighbors=7, knn__p=2, knn__weights=uniform; total time=   1.3s\n",
            "[CV] END knn__n_neighbors=15, knn__p=1, knn__weights=distance; total time=   2.9s\n",
            "[CV] END knn__n_neighbors=15, knn__p=1, knn__weights=distance; total time=   2.2s\n",
            "[CV] END knn__n_neighbors=15, knn__p=1, knn__weights=distance; total time=   2.2s\n",
            "[CV] END .knn__n_neighbors=7, knn__p=2, knn__weights=uniform; total time=   0.4s\n",
            "[CV] END .knn__n_neighbors=7, knn__p=2, knn__weights=uniform; total time=   0.4s\n",
            "[CV] END .knn__n_neighbors=7, knn__p=2, knn__weights=uniform; total time=   0.4s\n",
            "[CV] END knn__n_neighbors=11, knn__p=1, knn__weights=distance; total time=   3.6s\n",
            "[CV] END knn__n_neighbors=11, knn__p=1, knn__weights=distance; total time=   2.9s\n",
            "[CV] END knn__n_neighbors=11, knn__p=1, knn__weights=distance; total time=   2.1s\n",
            "[CV] END knn__n_neighbors=4, knn__p=2, knn__weights=distance; total time=   0.2s\n",
            "[CV] END knn__n_neighbors=4, knn__p=2, knn__weights=distance; total time=   0.2s\n",
            "[CV] END knn__n_neighbors=4, knn__p=2, knn__weights=distance; total time=   0.2s\n",
            "Best Hyperparameters KNN random undersampling: {'knn__n_neighbors': 15, 'knn__p': 1, 'knn__weights': 'distance'}\n"
          ]
        },
        {
          "data": {
            "text/plain": [
              "['knn_random_undersampl.pkl']"
            ]
          },
          "execution_count": 8,
          "metadata": {},
          "output_type": "execute_result"
        }
      ],
      "source": [
        "# Create a pipeline with a StandardScaler and KNeighborsClassifier\n",
        "pipeline = Pipeline([\n",
        "    ('knn', KNeighborsClassifier())\n",
        "])\n",
        "\n",
        "# Define the parameter grid\n",
        "param_dist = {\n",
        "    'knn__n_neighbors': randint(1, 20),  # Number of neighbors\n",
        "    'knn__weights': ['uniform', 'distance'],  # Weighting strategy\n",
        "    'knn__p': [1, 2]  # Power parameter for Minkowski distance\n",
        "}\n",
        "\n",
        "# Create a RandomizedSearchCV object\n",
        "random_search = RandomizedSearchCV(\n",
        "    pipeline,\n",
        "    param_distributions=param_dist,\n",
        "    n_iter=5,  # Number of parameter settings sampled\n",
        "    scoring='f1_macro',  # Use an appropriate scoring metric\n",
        "    cv=3,  # Number of cross-validation folds\n",
        "    verbose=2,\n",
        "    random_state=42\n",
        ")\n",
        "\n",
        "# Fit the random search to the data\n",
        "random_search.fit(X_train_undersampled, y_train_undersampled)\n",
        "\n",
        "# Print the best hyperparameters\n",
        "print(\"Best Hyperparameters KNN random undersampling:\", random_search.best_params_)\n",
        "\n",
        "# Get the best model\n",
        "best_model = random_search.best_estimator_\n",
        "\n",
        "y_pred = best_model.predict(X_valid_transformed)\n",
        "\n",
        "#save model to a file\n",
        "joblib.dump(best_model, 'knn_random_undersampl.pkl')"
      ]
    },
    {
      "cell_type": "code",
      "source": [
        "best_model = joblib.load('knn_random_undersampl.pkl')"
      ],
      "metadata": {
        "id": "VhLtELsc9UTt"
      },
      "execution_count": 36,
      "outputs": []
    },
    {
      "cell_type": "code",
      "source": [
        "y_pred = best_model.predict(X_valid_transformed)"
      ],
      "metadata": {
        "id": "EEaAElal9XwQ"
      },
      "execution_count": 38,
      "outputs": []
    },
    {
      "cell_type": "code",
      "execution_count": null,
      "metadata": {
        "colab": {
          "base_uri": "https://localhost:8080/"
        },
        "id": "8Qg6_4yRmjh-",
        "outputId": "e4ea8de7-c3de-48fc-c98f-a74fdd050b77"
      },
      "outputs": [
        {
          "name": "stdout",
          "output_type": "stream",
          "text": [
            "F1 Score: 0.4553\n"
          ]
        }
      ],
      "source": [
        "f1 = f1_score(y_valid, y_pred, average = \"macro\")\n",
        "print(f\"F1 Score: {f1:.4f}\")"
      ]
    },
    {
      "cell_type": "code",
      "execution_count": null,
      "metadata": {
        "colab": {
          "base_uri": "https://localhost:8080/"
        },
        "id": "Vh2wXJdqmjfm",
        "outputId": "9cd395b0-0cd5-43a0-bc6c-82436aebd9f7"
      },
      "outputs": [
        {
          "name": "stdout",
          "output_type": "stream",
          "text": [
            "F1 Score: 0.8410\n"
          ]
        }
      ],
      "source": [
        "f1 = f1_score(y_valid, y_pred, average = \"weighted\")\n",
        "print(f\"F1 Score: {f1:.4f}\")"
      ]
    },
    {
      "cell_type": "code",
      "execution_count": null,
      "metadata": {
        "id": "qFEmk2vFmjdW"
      },
      "outputs": [],
      "source": [
        "##confusion matrix & classification report\n",
        "print(\"Confusion Matrix:\")\n",
        "print(confusion_matrix(y_valid, y_pred))\n",
        "\n",
        "print(\"\\nClassification Report:\")\n",
        "print(classification_report(y_valid, y_pred))"
      ]
    },
    {
      "cell_type": "code",
      "execution_count": null,
      "metadata": {
        "colab": {
          "base_uri": "https://localhost:8080/",
          "height": 489
        },
        "id": "Nu6JHgALmjbY",
        "outputId": "0b8d24a2-f093-4316-fca5-2258efe8363a"
      },
      "outputs": [
        {
          "data": {
            "image/png": "[encoded data removed]",
            "text/plain": [
              "<Figure size 640x480 with 1 Axes>"
            ]
          },
          "metadata": {},
          "output_type": "display_data"
        },
        {
          "name": "stdout",
          "output_type": "stream",
          "text": [
            "Area Under the Curve KNN undersampled (AUC): 0.1190\n"
          ]
        }
      ],
      "source": [
        "from sklearn.metrics import precision_recall_curve, auc\n",
        "import matplotlib.pyplot as plt\n",
        "\n",
        "# Assuming y_valid and probabilities are available\n",
        "#y_valid =  y_valid\n",
        "probabilities = best_model.predict_proba(X_valid_transformed)[:, 1]  # Probabilities of the positive class\n",
        "\n",
        "# Calculate the \"No Skill\" precision\n",
        "\n",
        "# Calculate precision-recall pairs\n",
        "precision_dt, recall_dt, _ = precision_recall_curve(y_valid, probabilities)\n",
        "auc_dt = auc(recall_dt, precision_dt)\n",
        "\n",
        "# Plot the precision-recall curve\n",
        "\n",
        "plt.plot(recall_dt, precision_dt, marker=\".\", label=f\"AUC (KNN, random undersampling) = {auc_dt:.4f}\")\n",
        "\n",
        "# Axis labels\n",
        "plt.xlabel(\"Recall\")\n",
        "plt.ylabel(\"Precision\")\n",
        "\n",
        "# Show the legend\n",
        "plt.legend()\n",
        "\n",
        "# Show the plot\n",
        "plt.show()\n"
      ]
    },
    {
      "cell_type": "code",
      "execution_count": null,
      "metadata": {
        "colab": {
          "base_uri": "https://localhost:8080/"
        },
        "id": "I2bhkaUQmjZW",
        "outputId": "613d6519-1291-4dc3-cb7b-5e590f3bdbbb"
      },
      "outputs": [
        {
          "name": "stdout",
          "output_type": "stream",
          "text": [
            "Area Under the Precision-Recall Curve (AUC-PR): 0.0278\n"
          ]
        }
      ],
      "source": [
        "average_precision = average_precision_score(y_valid, y_pred)\n",
        "\n",
        "print(f'Area Under the Precision-Recall Curve (AUC-PR): {average_precision:.4f}')"
      ]
    },
    {
      "cell_type": "code",
      "execution_count": null,
      "metadata": {
        "colab": {
          "base_uri": "https://localhost:8080/"
        },
        "id": "7SD3YNPDmjXL",
        "outputId": "44d80eb3-1c65-446f-db94-dee2660b48dc"
      },
      "outputs": [
        {
          "name": "stdout",
          "output_type": "stream",
          "text": [
            "Class 0: F1 Score = 0.85\n",
            "Class 1: F1 Score = 0.06\n",
            "Class accuracy: F1 Score = 0.74\n",
            "Class macro: F1 Score = 0.46\n",
            "Class weighted: F1 Score = 0.84\n"
          ]
        }
      ],
      "source": [
        "class_report = classification_report(y_valid, y_pred)\n",
        "\n",
        "# Print F1 scores per class\n",
        "for line in class_report.split('\\n')[2:-1]:\n",
        "    row = line.split()\n",
        "    if len(row) > 1:\n",
        "        class_label = row[0]\n",
        "        f1 = float(row[-2])\n",
        "        print(f\"Class {class_label}: F1 Score = {f1:.2f}\")"
      ]
    },
    {
      "cell_type": "code",
      "execution_count": null,
      "metadata": {
        "colab": {
          "base_uri": "https://localhost:8080/",
          "height": 564
        },
        "id": "_AoMR_wxoHYR",
        "outputId": "08b73cb0-4aff-400a-ad77-f42a3188e4cc"
      },
      "outputs": [
        {
          "data": {
            "image/png": "[encoded data removed]",
            "text/plain": [
              "<Figure size 1000x600 with 1 Axes>"
            ]
          },
          "metadata": {},
          "output_type": "display_data"
        }
      ],
      "source": [
        "train_sizes = np.linspace(0.1, 1.0, 10)\n",
        "scoring = \"f1_macro\"\n",
        "plot_learning_curve(best_model, X_train_undersampled, y_train_undersampled, scoring, train_sizes)"
      ]
    },
    {
      "cell_type": "code",
      "execution_count": null,
      "metadata": {
        "colab": {
          "base_uri": "https://localhost:8080/",
          "height": 599
        },
        "id": "prVWqvkr13pW",
        "outputId": "692198c6-712d-40b5-e362-e2e6378d1d3c"
      },
      "outputs": [
        {
          "data": {
            "image/png": "[encoded data removed]",
            "text/plain": [
              "<Figure size 800x600 with 1 Axes>"
            ]
          },
          "metadata": {},
          "output_type": "display_data"
        },
        {
          "name": "stdout",
          "output_type": "stream",
          "text": [
            "AUC Class 1: 0.1190\n",
            "AUC Class 0: 0.9721\n"
          ]
        }
      ],
      "source": [
        "# Calculate precision-recall curve for class 1\n",
        "precision_class1, recall_class1, _ = precision_recall_curve(y_valid, best_model.predict_proba(X_valid_transformed)[:, 1])\n",
        "auc_score_class1 = auc(recall_class1, precision_class1)\n",
        "\n",
        "# Calculate precision-recall curve for class 0\n",
        "precision_class0, recall_class0, _ = precision_recall_curve(1 - y_valid, 1 - best_model.predict_proba(X_valid_transformed)[:, 0])  # Invert labels for class 0\n",
        "auc_score_class0 = auc(recall_class0, precision_class0)\n",
        "\n",
        "# Plot the precision-recall curves\n",
        "plt.figure(figsize=(8, 6))\n",
        "\n",
        "# Plot precision-recall curve for class 1\n",
        "plt.step(recall_class1, precision_class1, color='b', alpha=0.2, where='post', label=f'Class 1 (AUC = {auc_score_class1:.2f})')\n",
        "plt.fill_between(recall_class1, precision_class1, step='post', alpha=0.2, color='b')\n",
        "\n",
        "# Plot precision-recall curve for class 0\n",
        "plt.step(recall_class0, precision_class0, color='r', alpha=0.2, where='post', label=f'Class 0 (AUC = {auc_score_class0:.2f})')\n",
        "plt.fill_between(recall_class0, precision_class0, step='post', alpha=0.2, color='r')\n",
        "\n",
        "plt.xlabel('Recall')\n",
        "plt.ylabel('Precision')\n",
        "plt.ylim([0.0, 1.05])\n",
        "plt.xlim([0.0, 1.0])\n",
        "plt.title('Precision-Recall Curve for Binary Classification')\n",
        "plt.legend(loc='lower left')\n",
        "plt.show()\n",
        "\n",
        "print(f\"AUC Class 1: {auc_score_class1:.4f}\")\n",
        "print(f\"AUC Class 0: {auc_score_class0:.4f}\")"
      ]
    },
    {
      "cell_type": "code",
      "execution_count": null,
      "metadata": {
        "colab": {
          "base_uri": "https://localhost:8080/"
        },
        "id": "m49tqEJAI84Y",
        "outputId": "792a6133-7fda-4e71-8a0e-2a270a8641ea"
      },
      "outputs": [
        {
          "name": "stdout",
          "output_type": "stream",
          "text": [
            "Chosen threshold: 1.0\n",
            "False Positive Rate: 0.006770925444026174\n",
            "Recall: 0.10739856801909307\n",
            "[[157252   1072]\n",
            " [  1496    180]]\n"
          ]
        }
      ],
      "source": [
        "##custom scorer\n",
        "\n",
        "#obtain predicted probabilities for the positive class from the model\n",
        "y_prob = best_model.predict_proba(X_valid_transformed)[:, 1]\n",
        "\n",
        "#make a list of touples with predicted probabilities and true labels in descending order\n",
        "sorted_probs = sorted(zip(y_prob, y_valid), key=lambda x: x[0], reverse=True)\n",
        "\n",
        "#calculate cumulative sum of true positives\n",
        "cumulative_tp = [0] + list(np.cumsum([y == 1 for _, y in sorted_probs]))\n",
        "\n",
        "#find the threshold where cumulative TP is closest to 90%\n",
        "target_cumulative_tp = int(0.9 * cumulative_tp[-1])\n",
        "threshold = next(prob for prob, _ in sorted_probs if cumulative_tp[np.searchsorted(cumulative_tp, target_cumulative_tp)] >= target_cumulative_tp) #find the threshold value where the cumulative TP is the closest to the target cumulative TP\n",
        "\n",
        "#applu the threshold to classify positive and negative instances\n",
        "y_pred = (y_prob >= threshold).astype(int) #astype to convert booleans to 0 and 1\n",
        "\n",
        "#evaluate the model using the chosen threshold\n",
        "conf_matrix = confusion_matrix(y_valid, y_pred)\n",
        "fpr = conf_matrix[0, 1] / (conf_matrix[0, 1] + conf_matrix[0, 0])\n",
        "recall = recall_score(y_valid, y_pred)\n",
        "\n",
        "print(f\"Chosen threshold: {threshold}\")\n",
        "print(f\"False Positive Rate: {fpr}\")\n",
        "print(f\"Recall: {recall}\")\n",
        "print(conf_matrix)\n",
        "\n"
      ]
    },
    {
      "cell_type": "code",
      "execution_count": null,
      "metadata": {
        "id": "90eYLdTnMUjj"
      },
      "outputs": [],
      "source": [
        "##KNN stratified undersampling 4/7\n",
        "\n",
        "X_train_undersampled = pd.read_csv('X_train_undersampled_str.csv')\n",
        "\n",
        "y_train_undersampled = pd.read_csv('y_train_undersampled_str.csv')\n",
        "\n",
        "y_train_undersampled = np.ravel(y_train_undersampled.values)\n"
      ]
    },
    {
      "cell_type": "code",
      "execution_count": null,
      "metadata": {
        "colab": {
          "base_uri": "https://localhost:8080/"
        },
        "id": "okcH3Lp0JES7",
        "outputId": "ec743b35-d796-4816-8411-50c8f4081778"
      },
      "outputs": [
        {
          "name": "stdout",
          "output_type": "stream",
          "text": [
            "Number of features is the same in training and validation sets.\n"
          ]
        }
      ],
      "source": [
        "#convert arrays to pandas df\n",
        "X_train_df = pd.DataFrame(X_train_undersampled)\n",
        "X_valid_df = pd.DataFrame(X_valid_transformed)\n",
        "\n",
        "#get the columns/features of each dataset\n",
        "features_train = set(X_train_df.columns)\n",
        "features_valid = set(X_valid_df.columns)\n",
        "\n",
        "#check if the features are the same\n",
        "if features_train == features_valid:\n",
        "    print(\"Number of features is the same in training and validation sets.\")\n",
        "else:\n",
        "    print(\"Number of features is different in training and validation sets.\")\n"
      ]
    },
    {
      "cell_type": "code",
      "execution_count": null,
      "metadata": {
        "colab": {
          "base_uri": "https://localhost:8080/"
        },
        "id": "djmyc8xK9FRp",
        "outputId": "7cf7ccfc-91a9-4c02-b02d-1716800f77f0"
      },
      "outputs": [
        {
          "name": "stdout",
          "output_type": "stream",
          "text": [
            "Fitting 3 folds for each of 5 candidates, totalling 15 fits\n",
            "[CV] END .knn__n_neighbors=7, knn__p=2, knn__weights=uniform; total time=   0.4s\n",
            "[CV] END .knn__n_neighbors=7, knn__p=2, knn__weights=uniform; total time=   0.4s\n",
            "[CV] END .knn__n_neighbors=7, knn__p=2, knn__weights=uniform; total time=   0.4s\n",
            "[CV] END knn__n_neighbors=15, knn__p=1, knn__weights=distance; total time=   2.4s\n",
            "[CV] END knn__n_neighbors=15, knn__p=1, knn__weights=distance; total time=   2.1s\n",
            "[CV] END knn__n_neighbors=15, knn__p=1, knn__weights=distance; total time=   3.6s\n",
            "[CV] END .knn__n_neighbors=7, knn__p=2, knn__weights=uniform; total time=   1.5s\n",
            "[CV] END .knn__n_neighbors=7, knn__p=2, knn__weights=uniform; total time=   1.0s\n",
            "[CV] END .knn__n_neighbors=7, knn__p=2, knn__weights=uniform; total time=   1.2s\n",
            "[CV] END knn__n_neighbors=11, knn__p=1, knn__weights=distance; total time=   2.4s\n",
            "[CV] END knn__n_neighbors=11, knn__p=1, knn__weights=distance; total time=   2.1s\n",
            "[CV] END knn__n_neighbors=11, knn__p=1, knn__weights=distance; total time=   2.4s\n",
            "[CV] END knn__n_neighbors=4, knn__p=2, knn__weights=distance; total time=   0.2s\n",
            "[CV] END knn__n_neighbors=4, knn__p=2, knn__weights=distance; total time=   0.2s\n",
            "[CV] END knn__n_neighbors=4, knn__p=2, knn__weights=distance; total time=   0.2s\n",
            "Best Hyperparameters KNN stratified undersampling: {'knn__n_neighbors': 15, 'knn__p': 1, 'knn__weights': 'distance'}\n"
          ]
        }
      ],
      "source": [
        "# Create a pipeline with a StandardScaler and KNeighborsClassifier\n",
        "pipeline = Pipeline([\n",
        "    ('knn', KNeighborsClassifier())\n",
        "])\n",
        "\n",
        "# Define the parameter grid\n",
        "param_dist = {\n",
        "    'knn__n_neighbors': randint(1, 20),  # Number of neighbors\n",
        "    'knn__weights': ['uniform', 'distance'],  # Weighting strategy\n",
        "    'knn__p': [1, 2]  # Power parameter for Minkowski distance\n",
        "}\n",
        "\n",
        "# Create a RandomizedSearchCV object\n",
        "random_search = RandomizedSearchCV(\n",
        "    pipeline,\n",
        "    param_distributions=param_dist,\n",
        "    n_iter=5,  # Number of parameter settings sampled\n",
        "    scoring='f1_macro',  # Use an appropriate scoring metric\n",
        "    cv=3,  # Number of cross-validation folds\n",
        "    verbose=2,\n",
        "    random_state=42\n",
        ")\n",
        "\n",
        "# Fit the random search to the data\n",
        "random_search.fit(X_train_undersampled, y_train_undersampled)\n",
        "\n",
        "# Print the best hyperparameters\n",
        "print(\"Best Hyperparameters KNN stratified undersampling:\", random_search.best_params_)\n",
        "\n",
        "# Get the best model\n",
        "best_model = random_search.best_estimator_\n",
        "\n",
        "y_pred = best_model.predict(X_valid_transformed)"
      ]
    },
    {
      "cell_type": "code",
      "execution_count": null,
      "metadata": {
        "colab": {
          "base_uri": "https://localhost:8080/"
        },
        "id": "wzdP_jvwQpY4",
        "outputId": "deffbba5-8b7d-478d-e49c-64382f0b44be"
      },
      "outputs": [
        {
          "data": {
            "text/plain": [
              "['knn_stratified_undersampl.pkl']"
            ]
          },
          "execution_count": 23,
          "metadata": {},
          "output_type": "execute_result"
        }
      ],
      "source": [
        "#save model to a file\n",
        "joblib.dump(best_model, 'knn_stratified_undersampl.pkl')"
      ]
    },
    {
      "cell_type": "code",
      "source": [
        "best_model = joblib.load('knn_stratified_undersampl.pkl')"
      ],
      "metadata": {
        "id": "PGEjjUphwu2Q"
      },
      "execution_count": 16,
      "outputs": []
    },
    {
      "cell_type": "code",
      "source": [
        "y_pred = best_model.predict(X_valid_transformed)"
      ],
      "metadata": {
        "id": "XVMmwJBNw2Qn"
      },
      "execution_count": 17,
      "outputs": []
    },
    {
      "cell_type": "code",
      "execution_count": null,
      "metadata": {
        "colab": {
          "base_uri": "https://localhost:8080/"
        },
        "id": "TVVNtgJUmmf3",
        "outputId": "96606586-18ee-41b0-8521-d66972ddb922"
      },
      "outputs": [
        {
          "name": "stdout",
          "output_type": "stream",
          "text": [
            "F1 Score: 0.4449\n"
          ]
        }
      ],
      "source": [
        "f1 = f1_score(y_valid, y_pred, average = \"macro\")\n",
        "print(f\"F1 Score: {f1:.4f}\")"
      ]
    },
    {
      "cell_type": "code",
      "execution_count": null,
      "metadata": {
        "colab": {
          "base_uri": "https://localhost:8080/"
        },
        "id": "iAKArBp4mmdj",
        "outputId": "1ffe50af-0417-4e19-8c83-dda36285c47e"
      },
      "outputs": [
        {
          "name": "stdout",
          "output_type": "stream",
          "text": [
            "F1 Score: 0.8209\n"
          ]
        }
      ],
      "source": [
        "f1 = f1_score(y_valid, y_pred, average = \"weighted\")\n",
        "print(f\"F1 Score: {f1:.4f}\")"
      ]
    },
    {
      "cell_type": "code",
      "execution_count": null,
      "metadata": {
        "colab": {
          "base_uri": "https://localhost:8080/"
        },
        "id": "bvNscol1JXqx",
        "outputId": "0e3bfebd-ca55-4689-bc59-5be33cc276a0"
      },
      "outputs": [
        {
          "name": "stdout",
          "output_type": "stream",
          "text": [
            "Confusion Matrix:\n",
            "[[112185  46139]\n",
            " [   174   1502]]\n",
            "\n",
            "Classification Report:\n",
            "              precision    recall  f1-score   support\n",
            "\n",
            "           0       1.00      0.71      0.83    158324\n",
            "           1       0.03      0.90      0.06      1676\n",
            "\n",
            "    accuracy                           0.71    160000\n",
            "   macro avg       0.51      0.80      0.44    160000\n",
            "weighted avg       0.99      0.71      0.82    160000\n",
            "\n"
          ]
        }
      ],
      "source": [
        "##confusion matrix & classification report\n",
        "print(\"Confusion Matrix:\")\n",
        "print(confusion_matrix(y_valid, y_pred))\n",
        "\n",
        "print(\"\\nClassification Report:\")\n",
        "print(classification_report(y_valid, y_pred))"
      ]
    },
    {
      "cell_type": "code",
      "execution_count": 19,
      "metadata": {
        "colab": {
          "base_uri": "https://localhost:8080/",
          "height": 449
        },
        "id": "gj56oq-VJXoI",
        "outputId": "944a78b4-81c4-4ec8-c419-08bfb46d93ae"
      },
      "outputs": [
        {
          "output_type": "display_data",
          "data": {
            "text/plain": [
              "<Figure size 640x480 with 1 Axes>"
            ],
            "image/png": "[encoded data removed]"
          },
          "metadata": {}
        }
      ],
      "source": [
        "from sklearn.metrics import precision_recall_curve, auc\n",
        "import matplotlib.pyplot as plt\n",
        "\n",
        "# Assuming y_valid and probabilities are available\n",
        "#y_valid =  y_valid\n",
        "probabilities = best_model.predict_proba(X_valid_transformed)[:, 1]  # Probabilities of the positive class\n",
        "\n",
        "# Calculate the \"No Skill\" precision\n",
        "\n",
        "# Calculate precision-recall pairs\n",
        "precision_dt, recall_dt, _ = precision_recall_curve(y_valid, probabilities)\n",
        "auc_dt = auc(recall_dt, precision_dt)\n",
        "\n",
        "# Plot the precision-recall curve\n",
        "\n",
        "plt.plot(recall_dt, precision_dt, marker=\".\", label=f\"AUC (KNN, str. undersampling) = {auc_dt:.4f}\")\n",
        "\n",
        "# Axis labels\n",
        "plt.xlabel(\"Recall\")\n",
        "plt.ylabel(\"Precision\")\n",
        "\n",
        "# Show the legend\n",
        "plt.legend()\n",
        "\n",
        "# Show the plot\n",
        "plt.show()\n"
      ]
    },
    {
      "cell_type": "code",
      "execution_count": null,
      "metadata": {
        "colab": {
          "base_uri": "https://localhost:8080/"
        },
        "id": "WfnITaSDJXln",
        "outputId": "3a3430a4-9e29-4d8f-f4b2-c703153d211f"
      },
      "outputs": [
        {
          "name": "stdout",
          "output_type": "stream",
          "text": [
            "Area Under the Precision-Recall Curve (AUC-PR): 0.0293\n"
          ]
        }
      ],
      "source": [
        "average_precision = average_precision_score(y_valid, y_pred)\n",
        "print(f'Area Under the Precision-Recall Curve (AUC-PR): {average_precision:.4f}')"
      ]
    },
    {
      "cell_type": "code",
      "execution_count": null,
      "metadata": {
        "colab": {
          "base_uri": "https://localhost:8080/"
        },
        "id": "4PPDtphCJXjG",
        "outputId": "a15bc3a9-00cf-4c22-c5a2-a7d3f9915879"
      },
      "outputs": [
        {
          "name": "stdout",
          "output_type": "stream",
          "text": [
            "Class 0: F1 Score = 0.83\n",
            "Class 1: F1 Score = 0.06\n",
            "Class accuracy: F1 Score = 0.71\n",
            "Class macro: F1 Score = 0.44\n",
            "Class weighted: F1 Score = 0.82\n"
          ]
        }
      ],
      "source": [
        "class_report = classification_report(y_valid, y_pred)\n",
        "\n",
        "# Print F1 scores per class\n",
        "for line in class_report.split('\\n')[2:-1]:\n",
        "    row = line.split()\n",
        "    if len(row) > 1:\n",
        "        class_label = row[0]\n",
        "        f1 = float(row[-2])\n",
        "        print(f\"Class {class_label}: F1 Score = {f1:.2f}\")"
      ]
    },
    {
      "cell_type": "code",
      "execution_count": null,
      "metadata": {
        "colab": {
          "base_uri": "https://localhost:8080/",
          "height": 564
        },
        "id": "vjtLc60sJXgf",
        "outputId": "f6932f2c-13fa-42a3-9c42-ca6305e357a0"
      },
      "outputs": [
        {
          "data": {
            "image/png": "[encoded data removed]",
            "text/plain": [
              "<Figure size 1000x600 with 1 Axes>"
            ]
          },
          "metadata": {},
          "output_type": "display_data"
        }
      ],
      "source": [
        "train_sizes = np.linspace(0.1, 1.0, 10)\n",
        "scoring = \"f1_macro\"\n",
        "plot_learning_curve(best_model, X_train_undersampled, y_train_undersampled, scoring, train_sizes)\n"
      ]
    },
    {
      "cell_type": "code",
      "execution_count": null,
      "metadata": {
        "colab": {
          "base_uri": "https://localhost:8080/",
          "height": 599
        },
        "id": "GJ-mGXSWJXeD",
        "outputId": "62d50361-cfe0-487f-a67f-2b77f85fb3e3"
      },
      "outputs": [
        {
          "data": {
            "image/png": "[encoded data removed]",
            "text/plain": [
              "<Figure size 800x600 with 1 Axes>"
            ]
          },
          "metadata": {},
          "output_type": "display_data"
        },
        {
          "name": "stdout",
          "output_type": "stream",
          "text": [
            "AUC Class 1: 0.1504\n",
            "AUC Class 0: 0.9705\n"
          ]
        }
      ],
      "source": [
        "# Calculate precision-recall curve for class 1\n",
        "precision_class1, recall_class1, _ = precision_recall_curve(y_valid, best_model.predict_proba(X_valid_transformed)[:, 1])\n",
        "auc_score_class1 = auc(recall_class1, precision_class1)\n",
        "\n",
        "# Calculate precision-recall curve for class 0\n",
        "precision_class0, recall_class0, _ = precision_recall_curve(1 - y_valid, 1 - best_model.predict_proba(X_valid_transformed)[:, 0])  # Invert labels for class 0\n",
        "auc_score_class0 = auc(recall_class0, precision_class0)\n",
        "\n",
        "# Plot the precision-recall curves\n",
        "plt.figure(figsize=(8, 6))\n",
        "\n",
        "# Plot precision-recall curve for class 1\n",
        "plt.step(recall_class1, precision_class1, color='b', alpha=0.2, where='post', label=f'Class 1 (AUC = {auc_score_class1:.2f})')\n",
        "plt.fill_between(recall_class1, precision_class1, step='post', alpha=0.2, color='b')\n",
        "\n",
        "# Plot precision-recall curve for class 0\n",
        "plt.step(recall_class0, precision_class0, color='r', alpha=0.2, where='post', label=f'Class 0 (AUC = {auc_score_class0:.2f})')\n",
        "plt.fill_between(recall_class0, precision_class0, step='post', alpha=0.2, color='r')\n",
        "\n",
        "plt.xlabel('Recall')\n",
        "plt.ylabel('Precision')\n",
        "plt.ylim([0.0, 1.05])\n",
        "plt.xlim([0.0, 1.0])\n",
        "plt.title('Precision-Recall Curve for Binary Classification')\n",
        "plt.legend(loc='lower left')\n",
        "plt.show()\n",
        "\n",
        "print(f\"AUC Class 1: {auc_score_class1:.4f}\")\n",
        "print(f\"AUC Class 0: {auc_score_class0:.4f}\")"
      ]
    },
    {
      "cell_type": "code",
      "execution_count": null,
      "metadata": {
        "colab": {
          "base_uri": "https://localhost:8080/"
        },
        "id": "deWRyjvmJXbr",
        "outputId": "47407be2-4a15-4401-a6fc-853691257f76"
      },
      "outputs": [
        {
          "name": "stdout",
          "output_type": "stream",
          "text": [
            "Chosen threshold: 1.0\n",
            "False Positive Rate: 0.011583840731664182\n",
            "Recall: 0.15035799522673032\n",
            "[[156490   1834]\n",
            " [  1424    252]]\n"
          ]
        }
      ],
      "source": [
        "##custom scorer\n",
        "\n",
        "#obtain predicted probabilities for the positive class from the model\n",
        "y_prob = best_model.predict_proba(X_valid_transformed)[:, 1]\n",
        "\n",
        "#make a list of touples with predicted probabilities and true labels in descending order\n",
        "sorted_probs = sorted(zip(y_prob, y_valid), key=lambda x: x[0], reverse=True)\n",
        "\n",
        "#calculate cumulative sum of true positives\n",
        "cumulative_tp = [0] + list(np.cumsum([y == 1 for _, y in sorted_probs]))\n",
        "\n",
        "#find the threshold where cumulative TP is closest to 90%\n",
        "target_cumulative_tp = int(0.9 * cumulative_tp[-1])\n",
        "threshold = next(prob for prob, _ in sorted_probs if cumulative_tp[np.searchsorted(cumulative_tp, target_cumulative_tp)] >= target_cumulative_tp) #find the threshold value where the cumulative TP is the closest to the target cumulative TP\n",
        "\n",
        "#applu the threshold to classify positive and negative instances\n",
        "y_pred = (y_prob >= threshold).astype(int) #astype to convert booleans to 0 and 1\n",
        "\n",
        "#evaluate the model using the chosen threshold\n",
        "conf_matrix = confusion_matrix(y_valid, y_pred)\n",
        "fpr = conf_matrix[0, 1] / (conf_matrix[0, 1] + conf_matrix[0, 0])\n",
        "recall = recall_score(y_valid, y_pred)\n",
        "\n",
        "print(f\"Chosen threshold: {threshold}\")\n",
        "print(f\"False Positive Rate: {fpr}\")\n",
        "print(f\"Recall: {recall}\")\n",
        "print(conf_matrix)\n",
        "\n"
      ]
    },
    {
      "cell_type": "code",
      "execution_count": null,
      "metadata": {
        "id": "Nf9iQsQoTr-3"
      },
      "outputs": [],
      "source": [
        "### fixed until here:)"
      ]
    },
    {
      "cell_type": "code",
      "execution_count": null,
      "metadata": {
        "id": "OtASU35ITr9B"
      },
      "outputs": [],
      "source": []
    },
    {
      "cell_type": "code",
      "execution_count": null,
      "metadata": {
        "id": "YxobJgpuTr6r"
      },
      "outputs": [],
      "source": []
    },
    {
      "cell_type": "code",
      "execution_count": null,
      "metadata": {
        "id": "Rec_oqgkMUjj"
      },
      "outputs": [],
      "source": [
        "#KNN CW\n",
        "##import data = basic full\n",
        "\n",
        "X_train_resampled = pd.read_csv('X_train_transformed_basicfull.csv')\n",
        "X_valid_transformed = pd.read_csv('X_valid_transformed_basicfull.csv')\n",
        "X_test_transformed = pd.read_csv('X_test_transformed_basicfull.csv')\n",
        "\n",
        "y_train_resampled = pd.read_csv('y_train_basicfull.csv')\n",
        "y_valid = pd.read_csv('y_valid_basicfull.csv')\n",
        "y_test = pd.read_csv('y_test_basicfull.csv')\n",
        "y_train_resampled = np.ravel(y_train_resampled.values)\n",
        "y_valid = np.ravel(y_valid.values)\n",
        "y_test = np.ravel(y_test.values)\n",
        "\n"
      ]
    },
    {
      "cell_type": "code",
      "execution_count": null,
      "metadata": {
        "id": "SpvvbXd4FrMZ"
      },
      "outputs": [],
      "source": [
        "X_train_tune, X_test_tune, y_train_tune, y_test_tune = train_test_split(X_train_resampled, y_train_resampled, test_size=0.5, random_state=42)"
      ]
    },
    {
      "cell_type": "code",
      "execution_count": null,
      "metadata": {
        "colab": {
          "background_save": true,
          "base_uri": "https://localhost:8080/"
        },
        "id": "kad1DVtCmnbb",
        "outputId": "51ebd068-7d3f-4910-fd35-87e9fa21b45a"
      },
      "outputs": [
        {
          "name": "stdout",
          "output_type": "stream",
          "text": [
            "Fitting 3 folds for each of 5 candidates, totalling 15 fits\n",
            "[CV] END .knn__n_neighbors=7, knn__p=2, knn__weights=uniform; total time= 2.6min\n",
            "[CV] END .knn__n_neighbors=7, knn__p=2, knn__weights=uniform; total time= 2.6min\n",
            "[CV] END .knn__n_neighbors=7, knn__p=2, knn__weights=uniform; total time= 2.6min\n",
            "[CV] END knn__n_neighbors=15, knn__p=1, knn__weights=distance; total time=39.5min\n",
            "[CV] END knn__n_neighbors=15, knn__p=1, knn__weights=distance; total time=39.7min\n",
            "[CV] END knn__n_neighbors=15, knn__p=1, knn__weights=distance; total time=39.6min\n",
            "[CV] END .knn__n_neighbors=7, knn__p=2, knn__weights=uniform; total time= 2.6min\n",
            "[CV] END .knn__n_neighbors=7, knn__p=2, knn__weights=uniform; total time= 2.6min\n",
            "[CV] END .knn__n_neighbors=7, knn__p=2, knn__weights=uniform; total time= 2.6min\n",
            "[CV] END knn__n_neighbors=11, knn__p=1, knn__weights=distance; total time=39.6min\n",
            "[CV] END knn__n_neighbors=11, knn__p=1, knn__weights=distance; total time=39.4min\n",
            "[CV] END knn__n_neighbors=11, knn__p=1, knn__weights=distance; total time=39.2min\n",
            "[CV] END knn__n_neighbors=4, knn__p=2, knn__weights=distance; total time= 2.4min\n",
            "[CV] END knn__n_neighbors=4, knn__p=2, knn__weights=distance; total time= 2.4min\n",
            "[CV] END knn__n_neighbors=4, knn__p=2, knn__weights=distance; total time= 2.4min\n",
            "Best Hyperparameters KNN CW: {'knn__n_neighbors': 15, 'knn__p': 1, 'knn__weights': 'distance'}\n"
          ]
        },
        {
          "name": "stderr",
          "output_type": "stream",
          "text": [
            "/usr/local/lib/python3.10/dist-packages/sklearn/neighbors/_classification.py:215: DataConversionWarning: A column-vector y was passed when a 1d array was expected. Please change the shape of y to (n_samples,), for example using ravel().\n",
            "  return self._fit(X, y)\n",
            "ERROR:root:Internal Python error in the inspect module.\n",
            "Below is the traceback from this internal error.\n",
            "\n",
            "ERROR:root:Internal Python error in the inspect module.\n",
            "Below is the traceback from this internal error.\n",
            "\n",
            "ERROR:root:Internal Python error in the inspect module.\n",
            "Below is the traceback from this internal error.\n",
            "\n"
          ]
        },
        {
          "name": "stdout",
          "output_type": "stream",
          "text": [
            "Traceback (most recent call last):\n",
            "  File \"/usr/local/lib/python3.10/dist-packages/IPython/core/interactiveshell.py\", line 3553, in run_code\n",
            "    exec(code_obj, self.user_global_ns, self.user_ns)\n",
            "  File \"<ipython-input-11-2e6e64aa6e9a>\", line 63, in <cell line: 63>\n",
            "    joblib.dump(best_model, 'knn_class_weights.pkl')\n",
            "  File \"/usr/local/lib/python3.10/dist-packages/joblib/numpy_pickle.py\", line 552, in dump\n",
            "    with open(filename, 'wb') as f:\n",
            "OSError: [Errno 107] Transport endpoint is not connected: 'knn_class_weights.pkl'\n",
            "\n",
            "During handling of the above exception, another exception occurred:\n",
            "\n",
            "Traceback (most recent call last):\n",
            "  File \"/usr/local/lib/python3.10/dist-packages/IPython/core/interactiveshell.py\", line 2099, in showtraceback\n",
            "    stb = value._render_traceback_()\n",
            "AttributeError: 'OSError' object has no attribute '_render_traceback_'\n",
            "\n",
            "During handling of the above exception, another exception occurred:\n",
            "\n",
            "Traceback (most recent call last):\n",
            "  File \"/usr/local/lib/python3.10/dist-packages/IPython/core/ultratb.py\", line 1101, in get_records\n",
            "    return _fixed_getinnerframes(etb, number_of_lines_of_context, tb_offset)\n",
            "  File \"/usr/local/lib/python3.10/dist-packages/IPython/core/ultratb.py\", line 248, in wrapped\n",
            "    return f(*args, **kwargs)\n",
            "  File \"/usr/local/lib/python3.10/dist-packages/IPython/core/ultratb.py\", line 281, in _fixed_getinnerframes\n",
            "    records = fix_frame_records_filenames(inspect.getinnerframes(etb, context))\n",
            "  File \"/usr/lib/python3.10/inspect.py\", line 1662, in getinnerframes\n",
            "    frameinfo = (tb.tb_frame,) + getframeinfo(tb, context)\n",
            "  File \"/usr/lib/python3.10/inspect.py\", line 1620, in getframeinfo\n",
            "    filename = getsourcefile(frame) or getfile(frame)\n",
            "  File \"/usr/lib/python3.10/inspect.py\", line 829, in getsourcefile\n",
            "    module = getmodule(object, filename)\n",
            "  File \"/usr/lib/python3.10/inspect.py\", line 861, in getmodule\n",
            "    file = getabsfile(object, _filename)\n",
            "  File \"/usr/lib/python3.10/inspect.py\", line 845, in getabsfile\n",
            "    return os.path.normcase(os.path.abspath(_filename))\n",
            "  File \"/usr/lib/python3.10/posixpath.py\", line 384, in abspath\n",
            "    cwd = os.getcwd()\n",
            "OSError: [Errno 107] Transport endpoint is not connected\n",
            "Traceback (most recent call last):\n",
            "  File \"/usr/local/lib/python3.10/dist-packages/IPython/core/interactiveshell.py\", line 3553, in run_code\n",
            "    exec(code_obj, self.user_global_ns, self.user_ns)\n",
            "  File \"<ipython-input-11-2e6e64aa6e9a>\", line 63, in <cell line: 63>\n",
            "    joblib.dump(best_model, 'knn_class_weights.pkl')\n",
            "  File \"/usr/local/lib/python3.10/dist-packages/joblib/numpy_pickle.py\", line 552, in dump\n",
            "    with open(filename, 'wb') as f:\n",
            "OSError: [Errno 107] Transport endpoint is not connected: 'knn_class_weights.pkl'\n",
            "\n",
            "During handling of the above exception, another exception occurred:\n",
            "\n",
            "Traceback (most recent call last):\n",
            "  File \"/usr/local/lib/python3.10/dist-packages/IPython/core/interactiveshell.py\", line 2099, in showtraceback\n",
            "    stb = value._render_traceback_()\n",
            "AttributeError: 'OSError' object has no attribute '_render_traceback_'\n",
            "\n",
            "During handling of the above exception, another exception occurred:\n",
            "\n",
            "Traceback (most recent call last):\n",
            "  File \"/usr/local/lib/python3.10/dist-packages/IPython/core/interactiveshell.py\", line 3473, in run_ast_nodes\n",
            "    if (await self.run_code(code, result,  async_=asy)):\n",
            "  File \"/usr/local/lib/python3.10/dist-packages/IPython/core/interactiveshell.py\", line 3575, in run_code\n",
            "    self.showtraceback(running_compiled_code=True)\n",
            "  File \"/usr/local/lib/python3.10/dist-packages/IPython/core/interactiveshell.py\", line 2101, in showtraceback\n",
            "    stb = self.InteractiveTB.structured_traceback(etype,\n",
            "  File \"/usr/local/lib/python3.10/dist-packages/IPython/core/ultratb.py\", line 1367, in structured_traceback\n",
            "    return FormattedTB.structured_traceback(\n",
            "  File \"/usr/local/lib/python3.10/dist-packages/IPython/core/ultratb.py\", line 1267, in structured_traceback\n",
            "    return VerboseTB.structured_traceback(\n",
            "  File \"/usr/local/lib/python3.10/dist-packages/IPython/core/ultratb.py\", line 1124, in structured_traceback\n",
            "    formatted_exception = self.format_exception_as_a_whole(etype, evalue, etb, number_of_lines_of_context,\n",
            "  File \"/usr/local/lib/python3.10/dist-packages/IPython/core/ultratb.py\", line 1082, in format_exception_as_a_whole\n",
            "    last_unique, recursion_repeat = find_recursion(orig_etype, evalue, records)\n",
            "  File \"/usr/local/lib/python3.10/dist-packages/IPython/core/ultratb.py\", line 382, in find_recursion\n",
            "    return len(records), 0\n",
            "TypeError: object of type 'NoneType' has no len()\n",
            "\n",
            "During handling of the above exception, another exception occurred:\n",
            "\n",
            "Traceback (most recent call last):\n",
            "  File \"/usr/local/lib/python3.10/dist-packages/IPython/core/interactiveshell.py\", line 2099, in showtraceback\n",
            "    stb = value._render_traceback_()\n",
            "AttributeError: 'TypeError' object has no attribute '_render_traceback_'\n",
            "\n",
            "During handling of the above exception, another exception occurred:\n",
            "\n",
            "Traceback (most recent call last):\n",
            "  File \"/usr/local/lib/python3.10/dist-packages/IPython/core/ultratb.py\", line 1101, in get_records\n",
            "    return _fixed_getinnerframes(etb, number_of_lines_of_context, tb_offset)\n",
            "  File \"/usr/local/lib/python3.10/dist-packages/IPython/core/ultratb.py\", line 248, in wrapped\n",
            "    return f(*args, **kwargs)\n",
            "  File \"/usr/local/lib/python3.10/dist-packages/IPython/core/ultratb.py\", line 281, in _fixed_getinnerframes\n",
            "    records = fix_frame_records_filenames(inspect.getinnerframes(etb, context))\n",
            "  File \"/usr/lib/python3.10/inspect.py\", line 1662, in getinnerframes\n",
            "    frameinfo = (tb.tb_frame,) + getframeinfo(tb, context)\n",
            "  File \"/usr/lib/python3.10/inspect.py\", line 1620, in getframeinfo\n",
            "    filename = getsourcefile(frame) or getfile(frame)\n",
            "  File \"/usr/lib/python3.10/inspect.py\", line 829, in getsourcefile\n",
            "    module = getmodule(object, filename)\n",
            "  File \"/usr/lib/python3.10/inspect.py\", line 861, in getmodule\n",
            "    file = getabsfile(object, _filename)\n",
            "  File \"/usr/lib/python3.10/inspect.py\", line 845, in getabsfile\n",
            "    return os.path.normcase(os.path.abspath(_filename))\n",
            "  File \"/usr/lib/python3.10/posixpath.py\", line 384, in abspath\n",
            "    cwd = os.getcwd()\n",
            "OSError: [Errno 107] Transport endpoint is not connected\n",
            "Traceback (most recent call last):\n",
            "  File \"/usr/local/lib/python3.10/dist-packages/IPython/core/interactiveshell.py\", line 3553, in run_code\n",
            "    exec(code_obj, self.user_global_ns, self.user_ns)\n",
            "  File \"<ipython-input-11-2e6e64aa6e9a>\", line 63, in <cell line: 63>\n",
            "    joblib.dump(best_model, 'knn_class_weights.pkl')\n",
            "  File \"/usr/local/lib/python3.10/dist-packages/joblib/numpy_pickle.py\", line 552, in dump\n",
            "    with open(filename, 'wb') as f:\n",
            "OSError: [Errno 107] Transport endpoint is not connected: 'knn_class_weights.pkl'\n",
            "\n",
            "During handling of the above exception, another exception occurred:\n",
            "\n",
            "Traceback (most recent call last):\n",
            "  File \"/usr/local/lib/python3.10/dist-packages/IPython/core/interactiveshell.py\", line 2099, in showtraceback\n",
            "    stb = value._render_traceback_()\n",
            "AttributeError: 'OSError' object has no attribute '_render_traceback_'\n",
            "\n",
            "During handling of the above exception, another exception occurred:\n",
            "\n",
            "Traceback (most recent call last):\n",
            "  File \"/usr/local/lib/python3.10/dist-packages/IPython/core/interactiveshell.py\", line 3473, in run_ast_nodes\n",
            "    if (await self.run_code(code, result,  async_=asy)):\n",
            "  File \"/usr/local/lib/python3.10/dist-packages/IPython/core/interactiveshell.py\", line 3575, in run_code\n",
            "    self.showtraceback(running_compiled_code=True)\n",
            "  File \"/usr/local/lib/python3.10/dist-packages/IPython/core/interactiveshell.py\", line 2101, in showtraceback\n",
            "    stb = self.InteractiveTB.structured_traceback(etype,\n",
            "  File \"/usr/local/lib/python3.10/dist-packages/IPython/core/ultratb.py\", line 1367, in structured_traceback\n",
            "    return FormattedTB.structured_traceback(\n",
            "  File \"/usr/local/lib/python3.10/dist-packages/IPython/core/ultratb.py\", line 1267, in structured_traceback\n",
            "    return VerboseTB.structured_traceback(\n",
            "  File \"/usr/local/lib/python3.10/dist-packages/IPython/core/ultratb.py\", line 1124, in structured_traceback\n",
            "    formatted_exception = self.format_exception_as_a_whole(etype, evalue, etb, number_of_lines_of_context,\n",
            "  File \"/usr/local/lib/python3.10/dist-packages/IPython/core/ultratb.py\", line 1082, in format_exception_as_a_whole\n",
            "    last_unique, recursion_repeat = find_recursion(orig_etype, evalue, records)\n",
            "  File \"/usr/local/lib/python3.10/dist-packages/IPython/core/ultratb.py\", line 382, in find_recursion\n",
            "    return len(records), 0\n",
            "TypeError: object of type 'NoneType' has no len()\n",
            "\n",
            "During handling of the above exception, another exception occurred:\n",
            "\n",
            "Traceback (most recent call last):\n",
            "  File \"/usr/local/lib/python3.10/dist-packages/IPython/core/interactiveshell.py\", line 2099, in showtraceback\n",
            "    stb = value._render_traceback_()\n",
            "AttributeError: 'TypeError' object has no attribute '_render_traceback_'\n",
            "\n",
            "During handling of the above exception, another exception occurred:\n",
            "\n",
            "Traceback (most recent call last):\n",
            "  File \"/usr/local/lib/python3.10/dist-packages/IPython/core/interactiveshell.py\", line 3030, in _run_cell\n",
            "    return runner(coro)\n",
            "  File \"/usr/local/lib/python3.10/dist-packages/IPython/core/async_helpers.py\", line 78, in _pseudo_sync_runner\n",
            "    coro.send(None)\n",
            "  File \"/usr/local/lib/python3.10/dist-packages/IPython/core/interactiveshell.py\", line 3257, in run_cell_async\n",
            "    has_raised = await self.run_ast_nodes(code_ast.body, cell_name,\n",
            "  File \"/usr/local/lib/python3.10/dist-packages/IPython/core/interactiveshell.py\", line 3492, in run_ast_nodes\n",
            "    self.showtraceback()\n",
            "  File \"/usr/local/lib/python3.10/dist-packages/IPython/core/interactiveshell.py\", line 2101, in showtraceback\n",
            "    stb = self.InteractiveTB.structured_traceback(etype,\n",
            "  File \"/usr/local/lib/python3.10/dist-packages/IPython/core/ultratb.py\", line 1367, in structured_traceback\n",
            "    return FormattedTB.structured_traceback(\n",
            "  File \"/usr/local/lib/python3.10/dist-packages/IPython/core/ultratb.py\", line 1267, in structured_traceback\n",
            "    return VerboseTB.structured_traceback(\n",
            "  File \"/usr/local/lib/python3.10/dist-packages/IPython/core/ultratb.py\", line 1142, in structured_traceback\n",
            "    formatted_exceptions += self.format_exception_as_a_whole(etype, evalue, etb, lines_of_context,\n",
            "  File \"/usr/local/lib/python3.10/dist-packages/IPython/core/ultratb.py\", line 1082, in format_exception_as_a_whole\n",
            "    last_unique, recursion_repeat = find_recursion(orig_etype, evalue, records)\n",
            "  File \"/usr/local/lib/python3.10/dist-packages/IPython/core/ultratb.py\", line 382, in find_recursion\n",
            "    return len(records), 0\n",
            "TypeError: object of type 'NoneType' has no len()\n",
            "\n",
            "During handling of the above exception, another exception occurred:\n",
            "\n",
            "Traceback (most recent call last):\n",
            "  File \"/usr/local/lib/python3.10/dist-packages/IPython/core/interactiveshell.py\", line 2099, in showtraceback\n",
            "    stb = value._render_traceback_()\n",
            "AttributeError: 'TypeError' object has no attribute '_render_traceback_'\n",
            "\n",
            "During handling of the above exception, another exception occurred:\n",
            "\n",
            "Traceback (most recent call last):\n",
            "  File \"/usr/local/lib/python3.10/dist-packages/IPython/core/ultratb.py\", line 1101, in get_records\n",
            "    return _fixed_getinnerframes(etb, number_of_lines_of_context, tb_offset)\n",
            "  File \"/usr/local/lib/python3.10/dist-packages/IPython/core/ultratb.py\", line 248, in wrapped\n",
            "    return f(*args, **kwargs)\n",
            "  File \"/usr/local/lib/python3.10/dist-packages/IPython/core/ultratb.py\", line 281, in _fixed_getinnerframes\n",
            "    records = fix_frame_records_filenames(inspect.getinnerframes(etb, context))\n",
            "  File \"/usr/lib/python3.10/inspect.py\", line 1662, in getinnerframes\n",
            "    frameinfo = (tb.tb_frame,) + getframeinfo(tb, context)\n",
            "  File \"/usr/lib/python3.10/inspect.py\", line 1620, in getframeinfo\n",
            "    filename = getsourcefile(frame) or getfile(frame)\n",
            "  File \"/usr/lib/python3.10/inspect.py\", line 829, in getsourcefile\n",
            "    module = getmodule(object, filename)\n",
            "  File \"/usr/lib/python3.10/inspect.py\", line 861, in getmodule\n",
            "    file = getabsfile(object, _filename)\n",
            "  File \"/usr/lib/python3.10/inspect.py\", line 845, in getabsfile\n",
            "    return os.path.normcase(os.path.abspath(_filename))\n",
            "  File \"/usr/lib/python3.10/posixpath.py\", line 384, in abspath\n",
            "    cwd = os.getcwd()\n",
            "OSError: [Errno 107] Transport endpoint is not connected\n"
          ]
        }
      ],
      "source": [
        "\n",
        "# Define the class weights manually\n",
        "weight_positive = 1 / 0.011  # 1/0.011 = 90.91\n",
        "class_weight_dict = {0: 1, 1: weight_positive}\n",
        "\n",
        "# Manually under-sample the majority class\n",
        "# Assuming 0 is the majority class\n",
        "majority_class_indices = y_train_tune[y_train_tune == 0].index\n",
        "random_indices = np.random.choice(majority_class_indices, size=int(len(majority_class_indices) * 0.5), replace=False)\n",
        "\n",
        "# Combine minority class indices with the randomly selected majority class indices\n",
        "under_sampled_indices = np.concatenate([random_indices, y_train_tune[y_train_tune == 1].index])\n",
        "\n",
        "X_train_re_sampled = X_train_tune.loc[under_sampled_indices]\n",
        "y_train_re_sampled = y_train_tune.loc[under_sampled_indices]\n",
        "\n",
        "y_train_re_sampled = y_train_re_sampled.values.ravel()\n",
        "\n",
        "pipeline = Pipeline([\n",
        "    ('knn', KNeighborsClassifier())\n",
        "])\n",
        "\n",
        "# Fit the pipeline to the resampled data\n",
        "pipeline.fit(X_train_re_sampled, y_train_re_sampled)\n",
        "\n",
        "# Define the parameter grid\n",
        "param_dist = {\n",
        "    'knn__n_neighbors': randint(1, 20),  # Number of neighbors\n",
        "    'knn__weights': ['uniform', 'distance'],  # Weighting strategy\n",
        "    'knn__p': [1, 2]  # Power parameter for Minkowski distance\n",
        "}\n",
        "\n",
        "# Create a RandomizedSearchCV object\n",
        "random_search = RandomizedSearchCV(\n",
        "    pipeline,\n",
        "    param_distributions=param_dist,\n",
        "    n_iter=5,  # Number of parameter settings sampled\n",
        "    scoring='f1_macro',  # Use an appropriate scoring metric\n",
        "    cv=3,  # Number of cross-validation folds\n",
        "    verbose=2,\n",
        "    random_state=42\n",
        ")\n",
        "\n",
        "# Fit the random search to the data - full data\n",
        "random_search.fit(X_train_re_sampled, y_train_re_sampled)\n",
        "\n",
        "# Print the best hyperparameters\n",
        "print(\"Best Hyperparameters KNN CW:\", random_search.best_params_)\n",
        "\n",
        "#fit the model on full data\n",
        "best_params = random_search.best_params_\n",
        "best_model = Pipeline([\n",
        "    ('knn', KNeighborsClassifier(n_neighbors=best_params['knn__n_neighbors'],\n",
        "                                  weights=best_params['knn__weights'],\n",
        "                                  p=best_params['knn__p']))\n",
        "])\n",
        "\n",
        "# Fit the final model on the full dataset\n",
        "best_model.fit(X_train_resampled, y_train_resampled)\n",
        "\n",
        "y_pred = best_model.predict(X_valid_transformed)\n",
        "\n",
        "#save model to a file\n",
        "joblib.dump(best_model, 'knn_class_weights.pkl')"
      ]
    },
    {
      "cell_type": "code",
      "execution_count": null,
      "metadata": {
        "id": "YEcHAx0dIcZ2"
      },
      "outputs": [],
      "source": [
        "#Best Hyperparameters KNN CW: {'knn__n_neighbors': 15, 'knn__p': 1, 'knn__weights': 'distance'}\n",
        "\n",
        "#best hyperparameters per search above\n",
        "knn_hyperparameters = {'n_neighbors': 15, 'p': 1, 'weights': 'distance'}\n",
        "\n",
        "#k-NN classifier\n",
        "knn_model = KNeighborsClassifier(\n",
        "    n_neighbors=knn_hyperparameters['n_neighbors'],\n",
        "    p=knn_hyperparameters['p'],\n",
        "    weights=knn_hyperparameters['weights']\n",
        ")"
      ]
    },
    {
      "cell_type": "code",
      "execution_count": null,
      "metadata": {
        "colab": {
          "background_save": true
        },
        "id": "S2Iwd9ASIcW-"
      },
      "outputs": [],
      "source": [
        "# Create a pipeline with k-NN\n",
        "pipeline = Pipeline([\n",
        "    ('knn', knn_model)\n",
        "])\n",
        "\n",
        "# Fit the model to your training data\n",
        "# Assuming X_train is your training data and y_train is your training labels\n",
        "best_model = pipeline.fit(X_train_resampled, y_train_resampled)\n",
        "\n",
        "# Predict with the trained model\n",
        "# Assuming X_test is your test data\n",
        "y_pred = pipeline.predict(X_valid_transformed)"
      ]
    },
    {
      "cell_type": "code",
      "execution_count": null,
      "metadata": {
        "colab": {
          "background_save": true
        },
        "id": "gcM1cmb8IcUe",
        "outputId": "6c97d1c3-3b66-483b-af9a-d20977ccf319"
      },
      "outputs": [
        {
          "data": {
            "text/plain": [
              "['knn_class_weights.pkl']"
            ]
          },
          "execution_count": 10,
          "metadata": {},
          "output_type": "execute_result"
        }
      ],
      "source": [
        "\n",
        "joblib.dump(best_model, 'knn_class_weights.pkl')"
      ]
    },
    {
      "cell_type": "code",
      "execution_count": null,
      "metadata": {
        "id": "Ay1CzEpWIcRx"
      },
      "outputs": [],
      "source": []
    },
    {
      "cell_type": "code",
      "execution_count": null,
      "metadata": {
        "colab": {
          "base_uri": "https://localhost:8080/"
        },
        "id": "Dl0J2ShomnX0",
        "outputId": "9be80f87-b5a6-43e1-b897-03a20647c526"
      },
      "outputs": [
        {
          "output_type": "stream",
          "name": "stdout",
          "text": [
            "F1 Score: 0.5003\n"
          ]
        }
      ],
      "source": [
        "f1 = f1_score(y_valid, y_pred, average = \"macro\")\n",
        "print(f\"F1 Score: {f1:.4f}\")"
      ]
    },
    {
      "cell_type": "code",
      "execution_count": null,
      "metadata": {
        "colab": {
          "base_uri": "https://localhost:8080/"
        },
        "id": "W_DkckJLmnPl",
        "outputId": "83381a2c-6701-4c37-a0fa-767eacd97f2e"
      },
      "outputs": [
        {
          "output_type": "stream",
          "name": "stdout",
          "text": [
            "F1 Score: 0.9844\n"
          ]
        }
      ],
      "source": [
        "f1 = f1_score(y_valid, y_pred, average = \"weighted\")\n",
        "print(f\"F1 Score: {f1:.4f}\")"
      ]
    },
    {
      "cell_type": "code",
      "execution_count": null,
      "metadata": {
        "colab": {
          "base_uri": "https://localhost:8080/"
        },
        "id": "DWyL29Q_mnNL",
        "outputId": "ed5d052b-2a3e-44a5-e4c9-3d71e26bdd7f"
      },
      "outputs": [
        {
          "output_type": "stream",
          "name": "stdout",
          "text": [
            "Confusion Matrix:\n",
            "[[158317      7]\n",
            " [  1671      5]]\n",
            "\n",
            "Classification Report:\n",
            "              precision    recall  f1-score   support\n",
            "\n",
            "           0       0.99      1.00      0.99    158324\n",
            "           1       0.42      0.00      0.01      1676\n",
            "\n",
            "    accuracy                           0.99    160000\n",
            "   macro avg       0.70      0.50      0.50    160000\n",
            "weighted avg       0.98      0.99      0.98    160000\n",
            "\n"
          ]
        }
      ],
      "source": [
        "##confusion matrix & classification report\n",
        "print(\"Confusion Matrix:\")\n",
        "print(confusion_matrix(y_valid, y_pred))\n",
        "\n",
        "print(\"\\nClassification Report:\")\n",
        "print(classification_report(y_valid, y_pred))"
      ]
    },
    {
      "cell_type": "code",
      "source": [
        "from sklearn.metrics import precision_recall_curve, auc\n",
        "import matplotlib.pyplot as plt\n",
        "\n",
        "# Assuming y_valid and probabilities are available\n",
        "y_valid =  y_valid\n",
        "probabilities = best_model.predict_proba(X_valid_transformed)[:, 1]  # Probabilities of the positive class\n",
        "\n",
        "# Calculate the \"No Skill\" precision\n",
        "\n",
        "# Calculate precision-recall pairs\n",
        "precision_dt, recall_dt, _ = precision_recall_curve(y_valid, probabilities)\n",
        "auc_dt = auc(recall_dt, precision_dt)\n",
        "\n",
        "# Plot the precision-recall curve\n",
        "\n",
        "plt.plot(recall_dt, precision_dt, marker=\".\", label=f\"AUC (KNN, class weights) = {auc_dt:.4f}\")\n",
        "\n",
        "# Axis labels\n",
        "plt.xlabel(\"Recall\")\n",
        "plt.ylabel(\"Precision\")\n",
        "\n",
        "# Show the legend\n",
        "plt.legend()\n",
        "\n",
        "# Show the plot\n",
        "plt.show()\n"
      ],
      "metadata": {
        "id": "baSgksS0dFKD",
        "colab": {
          "base_uri": "https://localhost:8080/",
          "height": 449
        },
        "outputId": "5d9ba42c-e825-422d-d815-b2f4667c764f"
      },
      "execution_count": 15,
      "outputs": [
        {
          "output_type": "display_data",
          "data": {
            "text/plain": [
              "<Figure size 640x480 with 1 Axes>"
            ],
            "image/png": "[encoded data removed]"
          },
          "metadata": {}
        }
      ]
    },
    {
      "cell_type": "code",
      "source": [],
      "metadata": {
        "id": "ERCsIXJHgDYK"
      },
      "execution_count": null,
      "outputs": []
    },
    {
      "cell_type": "code",
      "source": [],
      "metadata": {
        "id": "4hFzZkSG0PaB"
      },
      "execution_count": null,
      "outputs": []
    },
    {
      "cell_type": "code",
      "source": [],
      "metadata": {
        "id": "alV6dtws0PXs"
      },
      "execution_count": null,
      "outputs": []
    },
    {
      "cell_type": "code",
      "source": [],
      "metadata": {
        "id": "_3540oA60PVV"
      },
      "execution_count": null,
      "outputs": []
    },
    {
      "cell_type": "code",
      "source": [],
      "metadata": {
        "id": "8IjnU2F50PS-"
      },
      "execution_count": null,
      "outputs": []
    },
    {
      "cell_type": "code",
      "execution_count": null,
      "metadata": {
        "colab": {
          "base_uri": "https://localhost:8080/",
          "height": 564
        },
        "id": "mjkwmPBaC4Cp",
        "outputId": "e1ffe2d8-137b-488a-e7dd-6c39c7792201"
      },
      "outputs": [
        {
          "data": {
            "image/png": "[encoded data removed]",
            "text/plain": [
              "<Figure size 1000x600 with 1 Axes>"
            ]
          },
          "metadata": {},
          "output_type": "display_data"
        }
      ],
      "source": [
        "train_sizes = np.linspace(0.1, 1.0, 10)\n",
        "scoring = \"f1_macro\"\n",
        "plot_learning_curve(best_model, X_train_re_sampled, y_train_re_sampled, scoring, train_sizes)"
      ]
    },
    {
      "cell_type": "code",
      "execution_count": 20,
      "metadata": {
        "id": "I5diBMnyMUjj"
      },
      "outputs": [],
      "source": [
        "#KNN best sampling (stratified undersampling) + TR data\n",
        "\n",
        "X_train_resampled = pd.read_csv('X_train_undersampled_str_trans.csv')\n",
        "X_valid_transformed = pd.read_csv('X_valid_transformed_basic_trans.csv')\n",
        "\n",
        "y_train_resampled = pd.read_csv('y_train_undersampled_str_trans.csv')\n",
        "y_valid = pd.read_csv('y_valid_basic_trans.csv')\n",
        "\n",
        "\n",
        "y_train_resampled = np.ravel(y_train_resampled.values)\n",
        "y_valid = np.ravel(y_valid.values)\n",
        "\n"
      ]
    },
    {
      "cell_type": "code",
      "source": [
        "#convert arrays to pandas df\n",
        "X_train_df = pd.DataFrame(X_train_resampled)\n",
        "X_valid_df = pd.DataFrame(X_valid_transformed)\n",
        "\n",
        "#get the columns/features of each dataset\n",
        "features_train = set(X_train_df.columns)\n",
        "features_valid = set(X_valid_df.columns)\n",
        "\n",
        "#check if the features are the same\n",
        "if features_train == features_valid:\n",
        "    print(\"Number of features is the same in training and validation sets.\")\n",
        "else:\n",
        "    print(\"Number of features is different in training and validation sets.\")"
      ],
      "metadata": {
        "colab": {
          "base_uri": "https://localhost:8080/"
        },
        "id": "UYrd-8eN1OwI",
        "outputId": "6f3cc6a6-b013-4543-eaff-4e96582180c9"
      },
      "execution_count": 21,
      "outputs": [
        {
          "output_type": "stream",
          "name": "stdout",
          "text": [
            "Number of features is the same in training and validation sets.\n"
          ]
        }
      ]
    },
    {
      "cell_type": "code",
      "execution_count": 22,
      "metadata": {
        "colab": {
          "base_uri": "https://localhost:8080/"
        },
        "id": "vGRDYjOVKzQ2",
        "outputId": "107f495f-060d-4b70-c318-5974667eefb4"
      },
      "outputs": [
        {
          "output_type": "stream",
          "name": "stdout",
          "text": [
            "Fitting 3 folds for each of 5 candidates, totalling 15 fits\n",
            "Best Hyperparameters KNN: {'knn__n_neighbors': 15, 'knn__p': 1, 'knn__weights': 'distance'}\n"
          ]
        }
      ],
      "source": [
        "# Create a pipeline with a StandardScaler and KNeighborsClassifier\n",
        "pipeline = Pipeline([\n",
        "    ('knn', KNeighborsClassifier())\n",
        "])\n",
        "\n",
        "# Define the parameter grid\n",
        "param_dist = {\n",
        "    'knn__n_neighbors': randint(1, 20),  # Number of neighbors\n",
        "    'knn__weights': ['uniform', 'distance'],  # Weighting strategy\n",
        "    'knn__p': [1, 2]  # Power parameter for Minkowski distance\n",
        "}\n",
        "\n",
        "# Create a RandomizedSearchCV object\n",
        "random_search = RandomizedSearchCV(\n",
        "    pipeline,\n",
        "    param_distributions=param_dist,\n",
        "    n_iter=5,  # Number of parameter settings sampled\n",
        "    scoring='f1_macro',  # Use an appropriate scoring metric\n",
        "    cv=3,  # Number of cross-validation folds\n",
        "    verbose=2,\n",
        "    n_jobs=-1,  # Use all available CPU cores\n",
        "    random_state=42\n",
        ")\n",
        "\n",
        "# Fit the random search to the data\n",
        "random_search.fit(X_train_resampled, y_train_resampled)\n",
        "\n",
        "# Print the best hyperparameters\n",
        "print(\"Best Hyperparameters KNN:\", random_search.best_params_)\n",
        "\n",
        "# Get the best model\n",
        "best_model = random_search.best_estimator_\n",
        "\n",
        "y_pred = best_model.predict(X_valid_transformed)"
      ]
    },
    {
      "cell_type": "code",
      "source": [
        "joblib.dump(best_model, 'knn_trans_strat_undersampling')"
      ],
      "metadata": {
        "colab": {
          "base_uri": "https://localhost:8080/"
        },
        "id": "ajvKSC5U1cT3",
        "outputId": "0c096f8a-d526-462a-f9af-c8d512bd5931"
      },
      "execution_count": 23,
      "outputs": [
        {
          "output_type": "execute_result",
          "data": {
            "text/plain": [
              "['knn_trans_strat_undersampling']"
            ]
          },
          "metadata": {},
          "execution_count": 23
        }
      ]
    },
    {
      "cell_type": "code",
      "execution_count": 24,
      "metadata": {
        "colab": {
          "base_uri": "https://localhost:8080/"
        },
        "id": "LW2xwzvQMt2X",
        "outputId": "e10bc737-da5b-4da8-cf2f-7bf6d98d4be7"
      },
      "outputs": [
        {
          "output_type": "stream",
          "name": "stdout",
          "text": [
            "F1 Score: 0.4504\n"
          ]
        }
      ],
      "source": [
        "f1 = f1_score(y_valid, y_pred, average = \"macro\")\n",
        "print(f\"F1 Score: {f1:.4f}\")"
      ]
    },
    {
      "cell_type": "code",
      "execution_count": 25,
      "metadata": {
        "colab": {
          "base_uri": "https://localhost:8080/"
        },
        "id": "mu7TD9wFKzOp",
        "outputId": "3ab480e6-9f6b-46ac-cdac-0ded59ab9e7b"
      },
      "outputs": [
        {
          "output_type": "stream",
          "name": "stdout",
          "text": [
            "F1 Score: 0.8331\n"
          ]
        }
      ],
      "source": [
        "f1 = f1_score(y_valid, y_pred, average = \"weighted\")\n",
        "print(f\"F1 Score: {f1:.4f}\")"
      ]
    },
    {
      "cell_type": "code",
      "execution_count": 26,
      "metadata": {
        "colab": {
          "base_uri": "https://localhost:8080/"
        },
        "id": "wt9JszshKzMZ",
        "outputId": "54d599c1-38ae-4d67-9ef4-e8ed01e198e5"
      },
      "outputs": [
        {
          "output_type": "stream",
          "name": "stdout",
          "text": [
            "Confusion Matrix:\n",
            "[[115160  43164]\n",
            " [   302   1374]]\n",
            "\n",
            "Classification Report:\n",
            "              precision    recall  f1-score   support\n",
            "\n",
            "           0       1.00      0.73      0.84    158324\n",
            "           1       0.03      0.82      0.06      1676\n",
            "\n",
            "    accuracy                           0.73    160000\n",
            "   macro avg       0.51      0.77      0.45    160000\n",
            "weighted avg       0.99      0.73      0.83    160000\n",
            "\n"
          ]
        }
      ],
      "source": [
        "##confusion matrix & classification report\n",
        "print(\"Confusion Matrix:\")\n",
        "print(confusion_matrix(y_valid, y_pred))\n",
        "\n",
        "print(\"\\nClassification Report:\")\n",
        "print(classification_report(y_valid, y_pred))"
      ]
    },
    {
      "cell_type": "code",
      "execution_count": 27,
      "metadata": {
        "colab": {
          "base_uri": "https://localhost:8080/",
          "height": 449
        },
        "id": "rIadTNoEOaOr",
        "outputId": "2f0a0b2d-d963-4a9f-a09b-2f326f4a20c9"
      },
      "outputs": [
        {
          "output_type": "display_data",
          "data": {
            "text/plain": [
              "<Figure size 640x480 with 1 Axes>"
            ],
            "image/png": "[encoded data removed]"
          },
          "metadata": {}
        }
      ],
      "source": [
        "from sklearn.metrics import precision_recall_curve, auc\n",
        "import matplotlib.pyplot as plt\n",
        "\n",
        "# Assuming y_valid and probabilities are available\n",
        "#y_valid =  y_valid\n",
        "probabilities = best_model.predict_proba(X_valid_transformed)[:, 1]  # Probabilities of the positive class\n",
        "\n",
        "# Calculate the \"No Skill\" precision\n",
        "\n",
        "# Calculate precision-recall pairs\n",
        "precision_dt, recall_dt, _ = precision_recall_curve(y_valid, probabilities)\n",
        "auc_dt = auc(recall_dt, precision_dt)\n",
        "\n",
        "# Plot the precision-recall curve\n",
        "\n",
        "plt.plot(recall_dt, precision_dt, marker=\".\", label=f\"AUC (KNN, str. undersampling, trans.) = {auc_dt:.4f}\")\n",
        "\n",
        "# Axis labels\n",
        "plt.xlabel(\"Recall\")\n",
        "plt.ylabel(\"Precision\")\n",
        "\n",
        "# Show the legend\n",
        "plt.legend()\n",
        "\n",
        "# Show the plot\n",
        "plt.show()\n"
      ]
    },
    {
      "cell_type": "code",
      "execution_count": 28,
      "metadata": {
        "colab": {
          "base_uri": "https://localhost:8080/"
        },
        "id": "zrOQp3PmOaKO",
        "outputId": "7db02191-9800-4aa2-fc38-4c4cb01acf6d"
      },
      "outputs": [
        {
          "output_type": "stream",
          "name": "stdout",
          "text": [
            "Class 0: F1 Score = 0.84\n",
            "Class 1: F1 Score = 0.06\n",
            "Class accuracy: F1 Score = 0.73\n",
            "Class macro: F1 Score = 0.45\n",
            "Class weighted: F1 Score = 0.83\n"
          ]
        }
      ],
      "source": [
        "class_report = classification_report(y_valid, y_pred)\n",
        "\n",
        "# Print F1 scores per class\n",
        "for line in class_report.split('\\n')[2:-1]:\n",
        "    row = line.split()\n",
        "    if len(row) > 1:\n",
        "        class_label = row[0]\n",
        "        f1 = float(row[-2])\n",
        "        print(f\"Class {class_label}: F1 Score = {f1:.2f}\")"
      ]
    },
    {
      "cell_type": "code",
      "execution_count": 29,
      "metadata": {
        "colab": {
          "base_uri": "https://localhost:8080/",
          "height": 564
        },
        "id": "2S3Cg0BrKzJ7",
        "outputId": "446c7590-627f-4d66-94d4-029d4a360c06"
      },
      "outputs": [
        {
          "output_type": "display_data",
          "data": {
            "text/plain": [
              "<Figure size 1000x600 with 1 Axes>"
            ],
            "image/png": "[encoded data removed]"
          },
          "metadata": {}
        }
      ],
      "source": [
        "train_sizes = np.linspace(0.1, 1.0, 10)\n",
        "scoring = \"f1_macro\"\n",
        "plot_learning_curve(best_model, X_train_resampled, y_train_resampled, scoring, train_sizes)"
      ]
    },
    {
      "cell_type": "code",
      "source": [],
      "metadata": {
        "id": "V_wQlMU42ZUB"
      },
      "execution_count": null,
      "outputs": []
    },
    {
      "cell_type": "code",
      "source": [],
      "metadata": {
        "id": "j3A1569I2ZRo"
      },
      "execution_count": null,
      "outputs": []
    },
    {
      "cell_type": "code",
      "source": [
        "##best model (str. undersampling) evaluated on test"
      ],
      "metadata": {
        "id": "pdUorgwd2ZPM"
      },
      "execution_count": null,
      "outputs": []
    },
    {
      "cell_type": "code",
      "source": [
        "best_model = joblib.load('knn_stratified_undersampl.pkl')"
      ],
      "metadata": {
        "id": "E2YXBZ922ZM6"
      },
      "execution_count": 30,
      "outputs": []
    },
    {
      "cell_type": "code",
      "source": [
        "X_test_transformed = pd.read_csv('X_test_transformed_basicfull.csv')\n",
        "y_test = pd.read_csv('y_test_basicfull.csv')\n",
        "y_test = np.ravel(y_test.values)"
      ],
      "metadata": {
        "id": "JhUhwj9Z0YCu"
      },
      "execution_count": 31,
      "outputs": []
    },
    {
      "cell_type": "code",
      "source": [
        "y_pred = best_model.predict(X_test_transformed)"
      ],
      "metadata": {
        "id": "bVu53vTq0X_9"
      },
      "execution_count": 33,
      "outputs": []
    },
    {
      "cell_type": "code",
      "source": [
        "f1 = f1_score(y_test, y_pred, average = \"macro\")\n",
        "print(f\"F1 Score: {f1:.4f}\")\n",
        "\n",
        "f1 = f1_score(y_test, y_pred, average = \"weighted\")\n",
        "print(f\"F1 Score: {f1:.4f}\")\n",
        "\n",
        "##confusion matrix & classification report\n",
        "print(\"Confusion Matrix:\")\n",
        "print(confusion_matrix(y_test, y_pred))\n",
        "\n",
        "print(\"\\nClassification Report:\")\n",
        "print(classification_report(y_test, y_pred))"
      ],
      "metadata": {
        "colab": {
          "base_uri": "https://localhost:8080/"
        },
        "id": "ERPF9YGX0X91",
        "outputId": "cf5a2c67-a724-43cf-d38e-1ee4ba75243b"
      },
      "execution_count": 34,
      "outputs": [
        {
          "output_type": "stream",
          "name": "stdout",
          "text": [
            "F1 Score: 0.4472\n",
            "F1 Score: 0.8215\n",
            "Confusion Matrix:\n",
            "[[140456  57338]\n",
            " [   225   1981]]\n",
            "\n",
            "Classification Report:\n",
            "              precision    recall  f1-score   support\n",
            "\n",
            "           0       1.00      0.71      0.83    197794\n",
            "           1       0.03      0.90      0.06      2206\n",
            "\n",
            "    accuracy                           0.71    200000\n",
            "   macro avg       0.52      0.80      0.45    200000\n",
            "weighted avg       0.99      0.71      0.82    200000\n",
            "\n"
          ]
        }
      ]
    },
    {
      "cell_type": "code",
      "source": [
        "from sklearn.metrics import precision_recall_curve, auc\n",
        "import matplotlib.pyplot as plt\n",
        "\n",
        "# Assuming y_valid and probabilities are available\n",
        "#y_valid =  y_valid\n",
        "probabilities = best_model.predict_proba(X_test_transformed)[:, 1]  # Probabilities of the positive class\n",
        "\n",
        "# Calculate the \"No Skill\" precision\n",
        "\n",
        "# Calculate precision-recall pairs\n",
        "precision_dt, recall_dt, _ = precision_recall_curve(y_test, probabilities)\n",
        "auc_dt = auc(recall_dt, precision_dt)\n",
        "\n",
        "# Plot the precision-recall curve\n",
        "\n",
        "plt.plot(recall_dt, precision_dt, marker=\".\", label=f\"AUC (Best KNN, test set) = {auc_dt:.4f}\")\n",
        "\n",
        "# Axis labels\n",
        "plt.xlabel(\"Recall\")\n",
        "plt.ylabel(\"Precision\")\n",
        "\n",
        "# Show the legend\n",
        "plt.legend()\n",
        "\n",
        "# Show the plot\n",
        "plt.show()\n"
      ],
      "metadata": {
        "colab": {
          "base_uri": "https://localhost:8080/",
          "height": 449
        },
        "id": "w6TN-FMy2lEn",
        "outputId": "28c9862a-54ec-4831-c4bf-b8a54c30cc49"
      },
      "execution_count": 35,
      "outputs": [
        {
          "output_type": "display_data",
          "data": {
            "text/plain": [
              "<Figure size 640x480 with 1 Axes>"
            ],
            "image/png": "[encoded data removed]"
          },
          "metadata": {}
        }
      ]
    },
    {
      "cell_type": "code",
      "source": [],
      "metadata": {
        "id": "ctSAMo6g2lCD"
      },
      "execution_count": null,
      "outputs": []
    },
    {
      "cell_type": "code",
      "source": [],
      "metadata": {
        "id": "UoHQWj1a2k_d"
      },
      "execution_count": null,
      "outputs": []
    },
    {
      "cell_type": "code",
      "source": [],
      "metadata": {
        "id": "ivU_EZq14GP1"
      },
      "execution_count": null,
      "outputs": []
    },
    {
      "cell_type": "code",
      "source": [],
      "metadata": {
        "id": "HEpXcocH4GNh"
      },
      "execution_count": null,
      "outputs": []
    },
    {
      "cell_type": "code",
      "source": [],
      "metadata": {
        "id": "Gwmx9P_A3O8N"
      },
      "execution_count": null,
      "outputs": []
    },
    {
      "cell_type": "code",
      "execution_count": null,
      "metadata": {
        "colab": {
          "base_uri": "https://localhost:8080/",
          "height": 564
        },
        "id": "0r4q5z11QoD9",
        "outputId": "454b882c-c435-446a-8187-47e94eded7bf"
      },
      "outputs": [
        {
          "data": {
            "image/png": "[encoded data removed]",
            "text/plain": [
              "<Figure size 1000x600 with 1 Axes>"
            ]
          },
          "metadata": {},
          "output_type": "display_data"
        }
      ],
      "source": [
        "\n",
        "train_sizes = np.linspace(0.1, 1.0, 10)\n",
        "scoring = \"f1_macro\"\n",
        "plot_learning_curve(best_model, X_train_re_sampled, y_train_re_sampled, scoring, train_sizes)"
      ]
    },
    {
      "cell_type": "code",
      "execution_count": null,
      "metadata": {
        "id": "VSn4CJY4UGhk"
      },
      "outputs": [],
      "source": []
    },
    {
      "cell_type": "code",
      "source": [],
      "metadata": {
        "id": "THEikyNyz9tu"
      },
      "execution_count": null,
      "outputs": []
    },
    {
      "cell_type": "code",
      "source": [],
      "metadata": {
        "id": "MnYWGDURz9rf"
      },
      "execution_count": null,
      "outputs": []
    },
    {
      "cell_type": "code",
      "source": [],
      "metadata": {
        "id": "AQQAjNl8z9pF"
      },
      "execution_count": null,
      "outputs": []
    },
    {
      "cell_type": "code",
      "source": [],
      "metadata": {
        "id": "BHGKr5lVz9mi"
      },
      "execution_count": null,
      "outputs": []
    }
  ],
  "metadata": {
    "colab": {
      "machine_shape": "hm",
      "provenance": []
    },
    "kernelspec": {
      "display_name": "Python 3",
      "name": "python3"
    },
    "language_info": {
      "codemirror_mode": {
        "name": "ipython",
        "version": 3
      },
      "file_extension": ".py",
      "mimetype": "text/x-python",
      "name": "python",
      "nbconvert_exporter": "python",
      "pygments_lexer": "ipython3",
      "version": "3.9.12"
    }
  },
  "nbformat": 4,
  "nbformat_minor": 0
}